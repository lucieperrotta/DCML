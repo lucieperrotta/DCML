{
 "cells": [
  {
   "cell_type": "code",
   "execution_count": 1,
   "metadata": {},
   "outputs": [
    {
     "name": "stderr",
     "output_type": "stream",
     "text": [
      "WARNING (theano.configdefaults): g++ not available, if using conda: `conda install m2w64-toolchain`\n",
      "C:\\Users\\Spouep\\Anaconda3\\lib\\site-packages\\theano\\configdefaults.py:560: UserWarning: DeprecationWarning: there is no c++ compiler.This is deprecated and with Theano 0.11 a c++ compiler will be mandatory\n",
      "  warnings.warn(\"DeprecationWarning: there is no c++ compiler.\"\n",
      "WARNING (theano.configdefaults): g++ not detected ! Theano will be unable to execute optimized C-implementations (for both CPU and GPU) and will default to Python implementations. Performance will be severely degraded. To remove this warning, set Theano flags cxx to an empty string.\n",
      "WARNING (theano.tensor.blas): Using NumPy C-API based implementation for BLAS functions.\n"
     ]
    }
   ],
   "source": [
    "import theano.tensor as T\n",
    "import numpy as np\n",
    "\n",
    "from theano import function"
   ]
  },
  {
   "cell_type": "code",
   "execution_count": 74,
   "metadata": {},
   "outputs": [],
   "source": [
    "# Number of terminal leaves of template\n",
    "terminals = T.bscalar('terminals')\n",
    "\n",
    "# Number of non-terminal leaves of template\n",
    "non_terminals = T.bscalar('non_terminals')\n",
    "\n",
    "# Rules probabilities\n",
    "p1 = T.dscalar('p1')\n",
    "p2 = T.dscalar('p2')\n",
    "p3 = T.dscalar('p3')\n",
    "p4 = T.dscalar('p4')\n",
    "p5 = T.dscalar('p5')\n",
    "p6 = T.dscalar('p6')"
   ]
  },
  {
   "cell_type": "code",
   "execution_count": 75,
   "metadata": {},
   "outputs": [],
   "source": [
    "# Symbolic probabilities of all 6 possibles level-2 trees to be generated\n",
    "T1s = p2\n",
    "T2s = p3\n",
    "T3s = p1 * p4 * p4\n",
    "T4s = p1 * p4 * p5\n",
    "T5s = p1 * p5 * p4\n",
    "T6s = p1 * p5 * p5"
   ]
  },
  {
   "cell_type": "code",
   "execution_count": 76,
   "metadata": {},
   "outputs": [],
   "source": [
    "# Symbolic entropy and ENB for level-2 tree\n",
    "H2s = -(T1s + T4s) * np.log(T1s + T4s) -(T2s + T6s) * np.log(T2s + T6s) -T3s * np.log(T3s) -T5s * np.log(T5s)\n",
    "E2s = p2 + 2*p1*p4*p5 + 2*p1*p4*p4\n",
    "\n",
    "# Symbolic entropy and ENB for level-3 template\n",
    "H3s = non_terminals * H2s\n",
    "E3s = non_terminals * E2s + terminals"
   ]
  },
  {
   "cell_type": "code",
   "execution_count": 77,
   "metadata": {},
   "outputs": [],
   "source": [
    "# Actual functions for entropy and ENB for level-3 template\n",
    "H3 = function([non_terminals, p1, p2, p3, p4, p5], H3s)\n",
    "E3 = function([non_terminals, terminals, p1, p2, p4, p5], E3s) "
   ]
  },
  {
   "cell_type": "code",
   "execution_count": null,
   "metadata": {},
   "outputs": [],
   "source": []
  }
 ],
 "metadata": {
  "kernelspec": {
   "display_name": "Python 3",
   "language": "python",
   "name": "python3"
  },
  "language_info": {
   "codemirror_mode": {
    "name": "ipython",
    "version": 3
   },
   "file_extension": ".py",
   "mimetype": "text/x-python",
   "name": "python",
   "nbconvert_exporter": "python",
   "pygments_lexer": "ipython3",
   "version": "3.6.3"
  }
 },
 "nbformat": 4,
 "nbformat_minor": 2
}
