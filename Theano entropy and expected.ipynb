{
 "cells": [
  {
   "cell_type": "code",
   "execution_count": 1,
   "metadata": {
    "scrolled": true
   },
   "outputs": [
    {
     "name": "stderr",
     "output_type": "stream",
     "text": [
      "WARNING (theano.configdefaults): g++ not available, if using conda: `conda install m2w64-toolchain`\n",
      "C:\\Users\\Spouep\\Anaconda3\\lib\\site-packages\\theano\\configdefaults.py:560: UserWarning: DeprecationWarning: there is no c++ compiler.This is deprecated and with Theano 0.11 a c++ compiler will be mandatory\n",
      "  warnings.warn(\"DeprecationWarning: there is no c++ compiler.\"\n",
      "WARNING (theano.configdefaults): g++ not detected ! Theano will be unable to execute optimized C-implementations (for both CPU and GPU) and will default to Python implementations. Performance will be severely degraded. To remove this warning, set Theano flags cxx to an empty string.\n",
      "WARNING (theano.tensor.blas): Using NumPy C-API based implementation for BLAS functions.\n"
     ]
    }
   ],
   "source": [
    "import theano.tensor as T\n",
    "import numpy as np\n",
    "\n",
    "from theano import function"
   ]
  },
  {
   "cell_type": "code",
   "execution_count": 2,
   "metadata": {},
   "outputs": [],
   "source": [
    "# Number of terminal leaves of template\n",
    "terminals = T.bscalar('terminals')\n",
    "\n",
    "# Number of non-terminal leaves of template\n",
    "non_terminals = T.bscalar('non_terminals')\n",
    "\n",
    "# Rules probabilities\n",
    "p1 = T.dscalar('p1')\n",
    "p2 = T.dscalar('p2')\n",
    "p3 = T.dscalar('p3')\n",
    "p4 = T.dscalar('p4')\n",
    "p5 = T.dscalar('p5')\n",
    "p6 = T.dscalar('p6')"
   ]
  },
  {
   "cell_type": "code",
   "execution_count": 3,
   "metadata": {},
   "outputs": [],
   "source": [
    "# Symbolic probabilities of all 6 possibles level-2 trees to be generated\n",
    "T1s = p2\n",
    "T2s = p3\n",
    "T3s = p1 * p4 * p4\n",
    "T4s = p1 * p4 * p5\n",
    "T5s = p1 * p5 * p4\n",
    "T6s = p1 * p5 * p5"
   ]
  },
  {
   "cell_type": "code",
   "execution_count": 4,
   "metadata": {},
   "outputs": [],
   "source": [
    "# Symbolic entropy and ENB for level-2 tree\n",
    "H2s = -(T1s + T4s) * np.log(T1s + T4s) -(T2s + T6s) * np.log(T2s + T6s) -T3s * np.log(T3s) -T5s * np.log(T5s)\n",
    "E2s = p2 + 2*p1*p4*p5 + 2*p1*p4*p4\n",
    "\n",
    "# Symbolic entropy and ENB for level-3 template\n",
    "H3s = non_terminals * H2s\n",
    "E3s = non_terminals * E2s + terminals"
   ]
  },
  {
   "cell_type": "code",
   "execution_count": 5,
   "metadata": {},
   "outputs": [],
   "source": [
    "# Actual functions for entropy and ENB for level-3 template\n",
    "H3 = function([non_terminals, p1, p2, p3, p4, p5], H3s)\n",
    "E3 = function([non_terminals, terminals, p1, p2, p4, p5], E3s) "
   ]
  },
  {
   "cell_type": "markdown",
   "metadata": {},
   "source": [
    "# Load all templates with #(non-) terminals"
   ]
  },
  {
   "cell_type": "code",
   "execution_count": 24,
   "metadata": {},
   "outputs": [
    {
     "data": {
      "text/plain": [
       "array(['2', '1', '2', '1', '0', '2', '1', '0', '2', '1', '1', '2', '1',\n",
       "       '1', '2', '1', '2', '1', '3', '0', '1', '1', '0', '1', '0', '0',\n",
       "       '1', '1', '1', '3', '0', '1', '2', '0', '1', '1', '1', '2', '1',\n",
       "       '0', '0', '1', '2', '4', '1', '3', '1', '0', '1', '2', '0', '0',\n",
       "       '1', '0', '3', '1', '2', '0', '1', '2', '2', '3', '1', '1', '1',\n",
       "       '0', '0', '3', '2', '0', '3', '0', '1', '2', '2', '0', '1', '3',\n",
       "       '3', '2', '3', '1', '1', '2', '0', '2', '1', '1', '1', '1', '2',\n",
       "       '1', '1', '2', '2', '1', '0', '1', '1', '1', '2', '2', '0', '0',\n",
       "       '2', '1', '2', '2', '1', '1', '0', '0', '1', '2', '2', '1', '2',\n",
       "       '1', '2', '2', '2', '2', '1'],\n",
       "      dtype='<U32')"
      ]
     },
     "execution_count": 24,
     "metadata": {},
     "output_type": "execute_result"
    }
   ],
   "source": [
    "templates = np.load(\"files/templates.npy\")\n",
    "templates[:,2]"
   ]
  },
  {
   "cell_type": "code",
   "execution_count": 19,
   "metadata": {
    "scrolled": true
   },
   "outputs": [
    {
     "ename": "ValueError",
     "evalue": "setting an array element with a sequence",
     "output_type": "error",
     "traceback": [
      "\u001b[1;31m---------------------------------------------------------------------------\u001b[0m",
      "\u001b[1;31mValueError\u001b[0m                                Traceback (most recent call last)",
      "\u001b[1;32m<ipython-input-19-19c8b605982e>\u001b[0m in \u001b[0;36m<module>\u001b[1;34m()\u001b[0m\n\u001b[0;32m      1\u001b[0m \u001b[1;32mfor\u001b[0m \u001b[0mtemplate\u001b[0m \u001b[1;32min\u001b[0m \u001b[0mtemplates\u001b[0m\u001b[1;33m:\u001b[0m\u001b[1;33m\u001b[0m\u001b[0m\n\u001b[1;32m----> 2\u001b[1;33m     \u001b[0mtemplate\u001b[0m\u001b[1;33m[\u001b[0m\u001b[1;36m3\u001b[0m\u001b[1;33m]\u001b[0m \u001b[1;33m=\u001b[0m \u001b[0mH3\u001b[0m\u001b[1;33m\u001b[0m\u001b[0m\n\u001b[0m",
      "\u001b[1;31mValueError\u001b[0m: setting an array element with a sequence"
     ]
    }
   ],
   "source": [
    "for template in templates:\n",
    "    template[3] = H3"
   ]
  },
  {
   "cell_type": "code",
   "execution_count": null,
   "metadata": {},
   "outputs": [],
   "source": []
  }
 ],
 "metadata": {
  "kernelspec": {
   "display_name": "Python 3",
   "language": "python",
   "name": "python3"
  },
  "language_info": {
   "codemirror_mode": {
    "name": "ipython",
    "version": 3
   },
   "file_extension": ".py",
   "mimetype": "text/x-python",
   "name": "python",
   "nbconvert_exporter": "python",
   "pygments_lexer": "ipython3",
   "version": "3.6.3"
  }
 },
 "nbformat": 4,
 "nbformat_minor": 2
}
