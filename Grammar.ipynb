{
 "cells": [
  {
   "cell_type": "code",
   "execution_count": 3,
   "metadata": {
    "scrolled": true
   },
   "outputs": [
    {
     "name": "stdout",
     "output_type": "stream",
     "text": [
      "Collecting pip\n",
      "  Downloading https://files.pythonhosted.org/packages/d8/f3/413bab4ff08e1fc4828dfc59996d721917df8e8583ea85385d51125dceff/pip-19.0.3-py2.py3-none-any.whl (1.4MB)\n",
      "Installing collected packages: pip\n",
      "  Found existing installation: pip 18.1\n",
      "    Uninstalling pip-18.1:\n",
      "      Successfully uninstalled pip-18.1\n",
      "Successfully installed pip-19.0.3\n",
      "Requirement already satisfied: pygame in c:\\users\\me\\anaconda3\\lib\\site-packages (1.9.4)\n",
      "Collecting midiutil\n",
      "  Downloading https://files.pythonhosted.org/packages/f5/44/fde6772d8bfaea64fcf5eb948124d0a5fdf5f848b14ac22a23ced53e562d/MIDIUtil-1.2.1.tar.gz (1.0MB)\n",
      "Building wheels for collected packages: midiutil\n",
      "  Building wheel for midiutil (setup.py): started\n",
      "  Building wheel for midiutil (setup.py): finished with status 'done'\n",
      "  Stored in directory: C:\\Users\\Me\\AppData\\Local\\pip\\Cache\\wheels\\70\\f1\\24\\97bde012f64820632e1e5e2935df19dfbcf9e058b0734b57cd\n",
      "Successfully built midiutil\n",
      "Installing collected packages: midiutil\n",
      "Successfully installed midiutil-1.2.1\n"
     ]
    }
   ],
   "source": [
    "# Libraries\n",
    "! python -m pip install --upgrade pip\n",
    "\n",
    "! pip install pygame\n",
    "! pip install midiutil"
   ]
  },
  {
   "cell_type": "code",
   "execution_count": 4,
   "metadata": {},
   "outputs": [],
   "source": [
    "#Imports\n",
    "import numpy as np\n",
    "from midi import *\n",
    "from midiutil import MIDIFile\n",
    "import matplotlib.pyplot as plt"
   ]
  },
  {
   "cell_type": "code",
   "execution_count": 5,
   "metadata": {
    "collapsed": true
   },
   "outputs": [],
   "source": [
    "# CONSTANTS\n",
    "L = 16 # length of measure\n",
    "bpm = 400 # bpm"
   ]
  },
  {
   "cell_type": "code",
   "execution_count": 85,
   "metadata": {
    "collapsed": true
   },
   "outputs": [],
   "source": [
    "# Function which chooses a rule according to the probs\n",
    "def choose_rule(size):\n",
    "    choice = np.random.random()\n",
    "    \n",
    "    if(size != 1):\n",
    "        p1 = 0.5\n",
    "        p2 = 0.5\n",
    "        p3 = 0\n",
    "\n",
    "        if(choice < p1):\n",
    "            return 1\n",
    "        if(choice < p1+p2):\n",
    "            return 2\n",
    "        if(choice < p1+p2+p3):\n",
    "            return 3\n",
    "    \n",
    "    #Final level (stop case)\n",
    "    if(size == 1):\n",
    "        if(choice < 0.5):\n",
    "            return 2\n",
    "        if(choice > 0.5):\n",
    "            return 3"
   ]
  },
  {
   "cell_type": "code",
   "execution_count": 20,
   "metadata": {
    "collapsed": true
   },
   "outputs": [],
   "source": [
    "# Rhythm generation\n",
    "def generate_rhythm(size, volume):\n",
    "    rhythm = np.zeros(size)\n",
    "    \n",
    "    # Recursion\n",
    "    rule = choose_rule(size)\n",
    "    \n",
    "    if (rule == 1):\n",
    "        rhythm = np.append( generate_rhythm(int(size/2), volume*1) , generate_rhythm(int(size/2), volume*0.98) )    \n",
    "    if (rule == 2):\n",
    "        rhythm[0] = volume   \n",
    "    return rhythm\n",
    "\n",
    "# Tempo generation\n",
    "def generate_tempo(size):   \n",
    "    tempo = np.zeros(size)\n",
    "    tempo[0:-1:4] = 255    \n",
    "    return tempo"
   ]
  },
  {
   "cell_type": "code",
   "execution_count": 165,
   "metadata": {},
   "outputs": [
    {
     "data": {
      "image/png": "[encoded data removed]",
      "text/plain": [
       "<matplotlib.figure.Figure at 0x1fb2eee6f98>"
      ]
     },
     "metadata": {},
     "output_type": "display_data"
    }
   ],
   "source": [
    "#Generate the audio beat and play it\n",
    "rhythm = generate_rhythm(L, 200)\n",
    "plt.plot(rhythm, 'bo')\n",
    "plt.show()\n",
    "\n",
    "degree   = 60   # pitch\n",
    "track    = 0\n",
    "channel  = 0\n",
    "time     = 1    # In beats\n",
    "duration = 1    # In beats\n",
    "tempo    = bpm  # In BPM\n",
    "volumes  = rhythm.astype(int).tolist()  # 0-127, as per the MIDI standard\n",
    "tempos   = generate_tempo(L).astype(int).tolist()\n",
    "\n",
    "MyMIDI = MIDIFile(1)  # One track, defaults to format 1 (tempo track is created automatically)\n",
    "MyMIDI.addTempo(track, time, tempo)\n",
    "\n",
    "# Rhythm\n",
    "MyMIDI.addProgramChange(tracknum=0, channel=0, time=0, program = 115)\n",
    "for i, volume in enumerate(volumes):\n",
    "    MyMIDI.addNote(track=0, channel=0, pitch=50, time=time + i, duration=duration, volume=volume)\n",
    "    \n",
    "# Tempo\n",
    "MyMIDI.addProgramChange(tracknum=0, channel=1, time=0, program = 115)    \n",
    "for i, tempo in enumerate(tempos):\n",
    "    MyMIDI.addNote(track=0, channel=1, pitch=90, time=time + i, duration=duration, volume=tempo)\n",
    "\n",
    "with open(\"test.mid\", \"wb\") as output_file:\n",
    "    MyMIDI.writeFile(output_file)\n",
    "\n",
    "play_music(\"test.mid\")"
   ]
  },
  {
   "cell_type": "code",
   "execution_count": 167,
   "metadata": {},
   "outputs": [
    {
     "name": "stderr",
     "output_type": "stream",
     "text": [
      "C:\\Users\\Me\\Anaconda3\\lib\\site-packages\\ipykernel_launcher.py:20: RuntimeWarning: divide by zero encountered in true_divide\n"
     ]
    },
    {
     "data": {
      "text/plain": [
       "4.0"
      ]
     },
     "execution_count": 167,
     "metadata": {},
     "output_type": "execute_result"
    }
   ],
   "source": [
    "def WNBD(rhythm):\n",
    "    meter = 4\n",
    "    beats = np.nonzero(rhythm)[0]\n",
    "    length = len(beats)\n",
    "    \n",
    "    T = np.zeros(length) # as in the paper\n",
    "    W = np.zeros(length) # denominator weight for (finishes before meter, after meter...)\n",
    "    D = np.zeros(length) # as in the paper\n",
    "    \n",
    "    T = np.minimum(beats % meter, -beats % meter)        \n",
    "    \n",
    "    for i in range(length-1): # length-1 because last beat has no next beat\n",
    "        W[i] = int(beats[i+1]/4) - int(beats[i]/4) + 1\n",
    "        if (W[i] > 2):\n",
    "            W[i] = 1\n",
    "    W[length-1] = int(len(rhythm)/4) - int(beats[length-1]/4) + 1 # last beat special case\n",
    "    if (W[length-1] > 2): \n",
    "        W[length-1] = 1\n",
    "    \n",
    "    D = (W/T)[T !=0] # avoid div/0\n",
    "    return np.sum(D)\n",
    "\n",
    "WNBD(rhythm)"
   ]
  }
 ],
 "metadata": {
  "kernelspec": {
   "display_name": "Python 3",
   "language": "python",
   "name": "python3"
  },
  "language_info": {
   "codemirror_mode": {
    "name": "ipython",
    "version": 3
   },
   "file_extension": ".py",
   "mimetype": "text/x-python",
   "name": "python",
   "nbconvert_exporter": "python",
   "pygments_lexer": "ipython3",
   "version": "3.6.2"
  }
 },
 "nbformat": 4,
 "nbformat_minor": 2
}
