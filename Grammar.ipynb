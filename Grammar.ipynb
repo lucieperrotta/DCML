{
 "cells": [
  {
   "cell_type": "code",
   "execution_count": null,
   "metadata": {
    "scrolled": true
   },
   "outputs": [],
   "source": [
    "# Libraries\n",
    "! python -m pip install --upgrade pip\n",
    "\n",
    "! pip install pygame\n",
    "! pip install midiutil"
   ]
  },
  {
   "cell_type": "code",
   "execution_count": 1,
   "metadata": {},
   "outputs": [
    {
     "name": "stdout",
     "output_type": "stream",
     "text": [
      "pygame 1.9.4\n",
      "Hello from the pygame community. https://www.pygame.org/contribute.html\n",
      "Playing test.mid\n",
      "\n",
      "Saving test.wav\n"
     ]
    }
   ],
   "source": [
    "#Imports\n",
    "import numpy as np\n",
    "from midi import *\n",
    "from midiutil import MIDIFile\n",
    "import matplotlib.pyplot as plt"
   ]
  },
  {
   "cell_type": "code",
   "execution_count": 31,
   "metadata": {},
   "outputs": [],
   "source": [
    "# CONSTANTS\n",
    "L = 16 # length of measure\n",
    "bpm = 400 # bpm\n",
    "\n",
    "p1 = 0 # Split 2 prob\n",
    "p2 = 1 # Play beat prob\n",
    "p3 = 0 # Play no beat\n",
    "p4 = 0.8 # Play beat in final level"
   ]
  },
  {
   "cell_type": "code",
   "execution_count": 32,
   "metadata": {},
   "outputs": [],
   "source": [
    "# Function which chooses a rule according to the probs\n",
    "def choose_rule(size):\n",
    "    choice = np.random.random()\n",
    "    \n",
    "    # Not last level\n",
    "    if(size != 1):\n",
    "        if(choice < p1):\n",
    "            return 1\n",
    "        if(choice < p1+p2):\n",
    "            return 2\n",
    "        if(choice < p1+p2+p3):\n",
    "            return 3\n",
    "    \n",
    "    #Final level (stop case)\n",
    "    if(size == 1):\n",
    "        if(choice < p4):\n",
    "            return 2\n",
    "        else:\n",
    "            return 3"
   ]
  },
  {
   "cell_type": "code",
   "execution_count": 33,
   "metadata": {},
   "outputs": [],
   "source": [
    "# Rhythm generation\n",
    "def generate_rhythm(size, volume):\n",
    "    rhythm = np.zeros(size)\n",
    "    \n",
    "    # Recursion\n",
    "    rule = choose_rule(size)\n",
    "    \n",
    "    if (rule == 1):\n",
    "        rhythm = np.append( generate_rhythm(int(size/2), volume*1) , generate_rhythm(int(size/2), volume*0.98) )    \n",
    "    if (rule == 2):\n",
    "        rhythm[0] = volume   \n",
    "    return rhythm\n",
    "\n",
    "# Tempo generation\n",
    "def generate_tempo(size):   \n",
    "    tempo = np.zeros(size)\n",
    "    tempo[0:-1:4] = 255    \n",
    "    return tempo"
   ]
  },
  {
   "cell_type": "code",
   "execution_count": 34,
   "metadata": {},
   "outputs": [
    {
     "data": {
      "image/png": "[encoded data removed]",
      "text/plain": [
       "<matplotlib.figure.Figure at 0x1da85f5cba8>"
      ]
     },
     "metadata": {
      "needs_background": "light"
     },
     "output_type": "display_data"
    }
   ],
   "source": [
    "#Generate the audio beat and play it\n",
    "rhythm = generate_rhythm(L, 200)\n",
    "plt.plot(rhythm, 'bo')\n",
    "plt.show()\n",
    "\n",
    "degree   = 60   # pitch\n",
    "track    = 0\n",
    "channel  = 0\n",
    "time     = 1    # In beats\n",
    "duration = 1    # In beats\n",
    "tempo    = bpm  # In BPM\n",
    "volumes  = rhythm.astype(int).tolist()  # 0-127, as per the MIDI standard\n",
    "tempos   = generate_tempo(L).astype(int).tolist()\n",
    "\n",
    "MyMIDI = MIDIFile(1)  # One track, defaults to format 1 (tempo track is created automatically)\n",
    "MyMIDI.addTempo(track, time, tempo)\n",
    "\n",
    "# Rhythm\n",
    "MyMIDI.addProgramChange(tracknum=0, channel=0, time=0, program = 115)\n",
    "for i, volume in enumerate(volumes):\n",
    "    MyMIDI.addNote(track=0, channel=0, pitch=50, time=time + i, duration=duration, volume=volume)\n",
    "    \n",
    "# Tempo\n",
    "MyMIDI.addProgramChange(tracknum=0, channel=1, time=0, program = 115)    \n",
    "for i, tempo in enumerate(tempos):\n",
    "    MyMIDI.addNote(track=0, channel=1, pitch=90, time=time + i, duration=duration, volume=tempo)\n",
    "\n",
    "with open(\"test.mid\", \"wb\") as output_file:\n",
    "    MyMIDI.writeFile(output_file)\n",
    "\n",
    "play_music(\"test.mid\")"
   ]
  },
  {
   "cell_type": "code",
   "execution_count": null,
   "metadata": {},
   "outputs": [],
   "source": [
    "def WNBD(rhythm):\n",
    "    meter = 4\n",
    "    beats = np.nonzero(rhythm)[0]\n",
    "    length = len(beats)\n",
    "    \n",
    "    T = np.zeros(length) # as in the paper\n",
    "    W = np.zeros(length) # denominator weight for (finishes before meter, after meter...)\n",
    "    D = np.zeros(length) # as in the paper\n",
    "    \n",
    "    T = np.minimum(beats % meter, -beats % meter)        \n",
    "    \n",
    "    for i in range(length-1): # length-1 because last beat has no next beat\n",
    "        W[i] = int(beats[i+1]/4) - int(beats[i]/4) + 1\n",
    "        if (W[i] > 2):\n",
    "            W[i] = 1\n",
    "    W[length-1] = int(len(rhythm)/4) - int(beats[length-1]/4) + 1 # last beat special case\n",
    "    if (W[length-1] > 2): \n",
    "        W[length-1] = 1\n",
    "    \n",
    "    D = (W/T)[T !=0] # avoid div/0\n",
    "    return np.sum(D)\n",
    "\n",
    "WNBD(rhythm)"
   ]
  },
  {
   "cell_type": "code",
   "execution_count": 35,
   "metadata": {},
   "outputs": [],
   "source": [
    "# Functions for probabilities of notes to be played\n",
    "def prob_to_be_played(size, level):\n",
    "    N = int(np.log2(size)+1)\n",
    "    acc = 0\n",
    "    for i in range (int(N-level)):\n",
    "        acc += p1**(i+level) * p2\n",
    "    \n",
    "    return p4 * p1**N + acc\n",
    "\n",
    "vprob_to_be_played = np.vectorize(prob_to_be_played)\n",
    "\n",
    "def levels(size):\n",
    "    N = int(np.log2(size)+1)\n",
    "    levels = np.zeros(size)\n",
    "    \n",
    "    for i in range(size):\n",
    "        for j in range(N):\n",
    "            if (i%(2**j) != 0):\n",
    "                levels[i] += 1\n",
    "                \n",
    "    return levels\n",
    "    \n",
    "def probs(size):\n",
    "    probs = np.zeros(size)\n",
    "    return vprob_to_be_played(size, levels(size))"
   ]
  },
  {
   "cell_type": "code",
   "execution_count": 36,
   "metadata": {},
   "outputs": [
    {
     "data": {
      "text/plain": [
       "array([ 1.,  0.,  0.,  0.,  0.,  0.,  0.,  0.,  0.,  0.,  0.,  0.,  0.,\n",
       "        0.,  0.,  0.])"
      ]
     },
     "execution_count": 36,
     "metadata": {},
     "output_type": "execute_result"
    }
   ],
   "source": [
    "probs(16)"
   ]
  },
  {
   "cell_type": "code",
   "execution_count": null,
   "metadata": {},
   "outputs": [],
   "source": []
  }
 ],
 "metadata": {
  "kernelspec": {
   "display_name": "Python 3",
   "language": "python",
   "name": "python3"
  },
  "language_info": {
   "codemirror_mode": {
    "name": "ipython",
    "version": 3
   },
   "file_extension": ".py",
   "mimetype": "text/x-python",
   "name": "python",
   "nbconvert_exporter": "python",
   "pygments_lexer": "ipython3",
   "version": "3.6.3"
  }
 },
 "nbformat": 4,
 "nbformat_minor": 2
}
