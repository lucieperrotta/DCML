{
 "cells": [
  {
   "cell_type": "code",
   "execution_count": 13,
   "metadata": {
    "scrolled": true
   },
   "outputs": [
    {
     "name": "stdout",
     "output_type": "stream",
     "text": [
      "Collecting pygame\n",
      "  Downloading https://files.pythonhosted.org/packages/45/34/38e7465c1aea7d570b83d9004eb0c4e783c9c1b17eb9eeb9a760c0898783/pygame-1.9.4-cp36-cp36m-win_amd64.whl (4.2MB)\n",
      "Installing collected packages: pygame\n",
      "Successfully installed pygame-1.9.4\n"
     ]
    }
   ],
   "source": [
    "! pip install pygame"
   ]
  },
  {
   "cell_type": "code",
   "execution_count": 191,
   "metadata": {},
   "outputs": [],
   "source": [
    "#Imports\n",
    "import numpy as np\n",
    "from midi import *\n",
    "from midiutil import MIDIFile\n",
    "import matplotlib.pyplot as plt"
   ]
  },
  {
   "cell_type": "code",
   "execution_count": 360,
   "metadata": {
    "collapsed": true
   },
   "outputs": [],
   "source": [
    "# CONSTANTS\n",
    "L = 16 # length of measure\n",
    "bpm = 400 # bpm"
   ]
  },
  {
   "cell_type": "code",
   "execution_count": 358,
   "metadata": {
    "collapsed": true
   },
   "outputs": [],
   "source": [
    "# Function which chooses a rule according to the probs\n",
    "def choose_rule():\n",
    "    p1 = 0.7\n",
    "    p2 = 0.3\n",
    "    p3 = 0\n",
    "    \n",
    "    choice = np.random.random()\n",
    "    \n",
    "    if(choice < p1):\n",
    "        return 1\n",
    "    if(choice < p1+p2):\n",
    "        return 2\n",
    "    if(choice < p1+p2+p3):\n",
    "        return 3"
   ]
  },
  {
   "cell_type": "code",
   "execution_count": 370,
   "metadata": {},
   "outputs": [],
   "source": [
    "# Rhythm generation\n",
    "def generate_rhythm(size, volume):\n",
    "    rhythm = np.zeros(size)\n",
    "    \n",
    "    # End case (else infinite recursion)\n",
    "    if(size == 1):\n",
    "        rhythm[0] = 255\n",
    "        return rhythm\n",
    "    \n",
    "    # Recursion\n",
    "    rule = choose_rule()\n",
    "    \n",
    "    if (rule == 1):\n",
    "        rhythm = np.append( generate_rhythm(int(size/2), volume*1) , generate_rhythm(int(size/2), volume*0.98) )    \n",
    "    if (rule == 2):\n",
    "        rhythm[0] = volume   \n",
    "    return rhythm\n",
    "\n",
    "# Tempo generation\n",
    "def generate_tempo(size):   \n",
    "    tempo = np.zeros(size)\n",
    "    tempo[0:-1:4] = 255    \n",
    "    return tempo"
   ]
  },
  {
   "cell_type": "code",
   "execution_count": 371,
   "metadata": {},
   "outputs": [
    {
     "data": {
      "image/png": "[encoded data removed]",
      "text/plain": [
       "<matplotlib.figure.Figure at 0x1d5dc368be0>"
      ]
     },
     "metadata": {},
     "output_type": "display_data"
    }
   ],
   "source": [
    "#Generate the audio beat and play it\n",
    "rhythm = generate_rhythm(L, 200)\n",
    "plt.plot(rhythm, 'bo')\n",
    "plt.show()\n",
    "\n",
    "degree   = 60   # pitch\n",
    "track    = 0\n",
    "channel  = 0\n",
    "time     = 1    # In beats\n",
    "duration = 1    # In beats\n",
    "tempo    = bpm  # In BPM\n",
    "volumes  = rhythm.astype(int).tolist()  # 0-127, as per the MIDI standard\n",
    "tempos   = generate_tempo(L).astype(int).tolist()\n",
    "\n",
    "MyMIDI = MIDIFile(1)  # One track, defaults to format 1 (tempo track is created automatically)\n",
    "MyMIDI.addTempo(track, time, tempo)\n",
    "\n",
    "# Rhythm\n",
    "MyMIDI.addProgramChange(tracknum=0, channel=0, time=0, program = 115)\n",
    "for i, volume in enumerate(volumes):\n",
    "    MyMIDI.addNote(track=0, channel=0, pitch=50, time=time + i, duration=duration, volume=volume)\n",
    "    \n",
    "# Tempo\n",
    "MyMIDI.addProgramChange(tracknum=0, channel=1, time=0, program = 115)    \n",
    "for i, tempo in enumerate(tempos):\n",
    "    MyMIDI.addNote(track=0, channel=1, pitch=90, time=time + i, duration=duration, volume=tempo)\n",
    "\n",
    "with open(\"test.mid\", \"wb\") as output_file:\n",
    "    MyMIDI.writeFile(output_file)\n",
    "\n",
    "play_music(\"test.mid\")"
   ]
  },
  {
   "cell_type": "code",
   "execution_count": null,
   "metadata": {
    "collapsed": true
   },
   "outputs": [],
   "source": []
  }
 ],
 "metadata": {
  "kernelspec": {
   "display_name": "Python 3",
   "language": "python",
   "name": "python3"
  },
  "language_info": {
   "codemirror_mode": {
    "name": "ipython",
    "version": 3
   },
   "file_extension": ".py",
   "mimetype": "text/x-python",
   "name": "python",
   "nbconvert_exporter": "python",
   "pygments_lexer": "ipython3",
   "version": "3.6.3"
  }
 },
 "nbformat": 4,
 "nbformat_minor": 2
}
