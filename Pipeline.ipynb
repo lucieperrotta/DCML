{
 "cells": [
  {
   "cell_type": "code",
   "execution_count": 1,
   "metadata": {
    "scrolled": true
   },
   "outputs": [
    {
     "name": "stdout",
     "output_type": "stream",
     "text": [
      "pygame 1.9.4\n",
      "Hello from the pygame community. https://www.pygame.org/contribute.html\n"
     ]
    }
   ],
   "source": [
    "#Imports\n",
    "import numpy as np\n",
    "from midiutil import MIDIFile\n",
    "import matplotlib.pyplot as plt\n",
    "import ternary\n",
    "from ternary.helpers import simplex_iterator\n",
    "import graphviz\n",
    "import anytree as at\n",
    "from anytree import Node, RenderTree\n",
    "from anytree.exporter import DotExporter\n",
    "import theano.tensor as T\n",
    "from theano import function\n",
    "import theano\n",
    "\n",
    "# helpers\n",
    "import sys\n",
    "sys.path.insert(0, 'helpers/')\n",
    "from tree_parser import TreeParser\n",
    "from midi import *\n",
    "\n",
    "import os\n",
    "os.environ[\"PATH\"] += os.pathsep + 'C:/Program Files (x86)/Graphviz2.38/bin/'"
   ]
  },
  {
   "cell_type": "code",
   "execution_count": 2,
   "metadata": {},
   "outputs": [],
   "source": [
    "# CONSTANTS\n",
    "L = 8 # length of measure\n",
    "N = int(np.log2(L)+1) # Number of levels (including 0)"
   ]
  },
  {
   "cell_type": "code",
   "execution_count": 3,
   "metadata": {},
   "outputs": [],
   "source": [
    "# Initial THEANO symbolic variables\n",
    "\n",
    "p1 = T.dscalar('p1')\n",
    "p2 = T.dscalar('p2')\n",
    "p3 = T.dscalar('p3')"
   ]
  },
  {
   "cell_type": "code",
   "execution_count": 4,
   "metadata": {},
   "outputs": [],
   "source": [
    "# 2-ways dictionary, not too slow...\n",
    "class bidict(dict):\n",
    "    def __init__(self, *args, **kwargs):\n",
    "        super(bidict, self).__init__(*args, **kwargs)\n",
    "        self.inverse = {}\n",
    "        for key, value in self.items():\n",
    "            self.inverse.setdefault(value,[]).append(key) \n",
    "\n",
    "    def __setitem__(self, key, value):\n",
    "        if key in self:\n",
    "            self.inverse[self[key]].remove(key) \n",
    "        super(bidict, self).__setitem__(key, value)\n",
    "        self.inverse.setdefault(value,[]).append(key)        \n",
    "\n",
    "    def __delitem__(self, key):\n",
    "        self.inverse.setdefault(self[key],[]).remove(key)\n",
    "        if self[key] in self.inverse and not self.inverse[self[key]]: \n",
    "            del self.inverse[self[key]]\n",
    "        super(bidict, self).__delitem__(key)"
   ]
  },
  {
   "cell_type": "markdown",
   "metadata": {},
   "source": [
    "# Set of all trees, and probability of all trees"
   ]
  },
  {
   "cell_type": "code",
   "execution_count": 6,
   "metadata": {},
   "outputs": [
    {
     "data": {
      "text/plain": [
       "1446"
      ]
     },
     "execution_count": 6,
     "metadata": {},
     "output_type": "execute_result"
    }
   ],
   "source": [
    "#With direct computation of the probs (very slow)\n",
    "\n",
    "\n",
    "# Templates level 1\n",
    "templates_1 = set()\n",
    "templates_1.add(p2)\n",
    "templates_1.add(p3)\n",
    "\n",
    "tree_prob_1 = dict()\n",
    "tree_prob_1[p2] = p2\n",
    "tree_prob_1[p3] = p3\n",
    "\n",
    "# Templates level 2\n",
    "templates_2 = set()\n",
    "templates_2.add(p2)\n",
    "templates_2.add(p3)\n",
    "\n",
    "tree_prob_2 = dict()\n",
    "tree_prob_2[p2] = p2\n",
    "tree_prob_2[p3] = p3\n",
    "\n",
    "for elem1 in templates_1:\n",
    "    for elem2 in templates_1:\n",
    "        templates_2.add((elem1, elem2))      \n",
    "        tree_prob_2[(elem1, elem2)] = p1*tree_prob_1[elem1]*tree_prob_1[elem2]\n",
    "\n",
    "# Templates level 3\n",
    "templates_3 = set()\n",
    "templates_3.add(p2)\n",
    "templates_3.add(p3)\n",
    "\n",
    "tree_prob_3 = dict()\n",
    "tree_prob_3[p2] = p2\n",
    "tree_prob_3[p3] = p3\n",
    "\n",
    "for elem1 in templates_2:\n",
    "    for elem2 in templates_2:\n",
    "        templates_3.add((elem1, elem2))\n",
    "        tree_prob_3[(elem1, elem2)] = p1*tree_prob_2[elem1]*tree_prob_2[elem2]\n",
    "        \n",
    "# Templates level 4\n",
    "templates_4 = set()\n",
    "templates_4.add(p2)\n",
    "templates_4.add(p3)\n",
    "\n",
    "tree_prob_4 = dict()\n",
    "tree_prob_4[p2] = p2\n",
    "tree_prob_4[p3] = p3\n",
    "\n",
    "for elem1 in templates_3:\n",
    "    for elem2 in templates_3:\n",
    "        templates_4.add((elem1, elem2))\n",
    "        tree_prob_4[(elem1, elem2)] = p1*tree_prob_3[elem1]*tree_prob_3[elem2]\n",
    "        \n",
    "# Templates level 5\n",
    "all_trees = set()\n",
    "all_trees.add(p2)\n",
    "all_trees.add(p3)\n",
    "\n",
    "tree2prob = dict()\n",
    "tree2prob[p2] = p2\n",
    "tree2prob[p3] = p3\n",
    "\n",
    "for elem1 in templates_3:\n",
    "    for elem2 in templates_3:\n",
    "        all_trees.add((elem1, elem2))\n",
    "        tree2prob[(elem1, elem2)] = p1*tree_prob_3[elem1]*tree_prob_3[elem2]\n",
    "        \n",
    "len(tree2prob)"
   ]
  },
  {
   "cell_type": "markdown",
   "metadata": {},
   "source": [
    "# Set of all rhythms"
   ]
  },
  {
   "cell_type": "code",
   "execution_count": 7,
   "metadata": {},
   "outputs": [
    {
     "data": {
      "text/plain": [
       "256"
      ]
     },
     "execution_count": 7,
     "metadata": {},
     "output_type": "execute_result"
    }
   ],
   "source": [
    "all_rhythms = set()\n",
    "\n",
    "for i in range(2**L): # populating\n",
    "    all_rhythms.add( tuple((\"{0:0%sb}\" %L).format(i)) )\n",
    "    \n",
    "len(all_rhythms)"
   ]
  },
  {
   "cell_type": "markdown",
   "metadata": {},
   "source": [
    "# 2-way dictionnary between trees and rhythms"
   ]
  },
  {
   "cell_type": "code",
   "execution_count": 8,
   "metadata": {
    "scrolled": true
   },
   "outputs": [
    {
     "data": {
      "text/plain": [
       "256"
      ]
     },
     "execution_count": 8,
     "metadata": {},
     "output_type": "execute_result"
    }
   ],
   "source": [
    "def tree_to_rhythm(tree, size=L):    \n",
    "    if(p2 == tree):\n",
    "        tup = ('1',) + ('0',) * int(size-1)\n",
    "        return tup    \n",
    "    elif(p3 == tree):\n",
    "        tup = ('0',) * int(size)\n",
    "        return tup    \n",
    "    else:\n",
    "        return tree_to_rhythm(tree[0], size/2) + tree_to_rhythm(tree[1], size/2)\n",
    "    \n",
    "trees2rhythms = bidict() # initial bidirection dictionary (can't be stored with pickle.....)\n",
    "\n",
    "for tree in all_trees:\n",
    "    trees2rhythms[tree] = tree_to_rhythm(tree)\n",
    "    \n",
    "# 2 dict for the 2 directions \n",
    "rhythm2trees = trees2rhythms.inverse\n",
    "tree2rhythm  = dict(trees2rhythms)\n",
    "\n",
    "len(rhythm2trees)"
   ]
  },
  {
   "cell_type": "markdown",
   "metadata": {},
   "source": [
    "# Probability of each rhythm (set)"
   ]
  },
  {
   "cell_type": "code",
   "execution_count": 9,
   "metadata": {},
   "outputs": [],
   "source": [
    "rhythm2prob = {}\n",
    "\n",
    "for rhythm in all_rhythms: \n",
    "    prob_rhythm = 0\n",
    "    for tree in rhythm2trees[rhythm]:\n",
    "        prob_rhythm += tree2prob[tree]\n",
    "        \n",
    "    rhythm2prob[rhythm] = prob_rhythm\n",
    "\n",
    "#save\n",
    "import pickle\n",
    "with open('files/rhythm2prob.pickle', 'wb') as f:\n",
    "    pickle.dump(rhythm2prob, f)\n",
    "    "
   ]
  },
  {
   "cell_type": "markdown",
   "metadata": {},
   "source": [
    "# Set of all templates, and probability of a template"
   ]
  },
  {
   "cell_type": "code",
   "execution_count": 36,
   "metadata": {},
   "outputs": [
    {
     "data": {
      "text/plain": [
       "123"
      ]
     },
     "execution_count": 36,
     "metadata": {},
     "output_type": "execute_result"
    }
   ],
   "source": [
    "# Templates level 1\n",
    "templates_1 = set()\n",
    "templates_1.add(p2)\n",
    "templates_1.add(p3)\n",
    "templates_1.add(tuple())\n",
    "\n",
    "template_prob_1 = dict()\n",
    "template_prob_1[p2] = p2\n",
    "template_prob_1[p3] = p3\n",
    "template_prob_1[tuple()] = p1\n",
    "\n",
    "# Templates level 2\n",
    "templates_2 = set()\n",
    "templates_2.add(p2)\n",
    "templates_2.add(p3)\n",
    "\n",
    "template_prob_2 = dict()\n",
    "template_prob_2[p2] = p2\n",
    "template_prob_2[p3] = p3\n",
    "\n",
    "for elem1 in templates_1:\n",
    "    for elem2 in templates_1:\n",
    "        templates_2.add((elem1, elem2))\n",
    "        template_prob_2[(elem1, elem2)] = p1*template_prob_1[elem1]*template_prob_1[elem2]\n",
    "        \n",
    "# Templates level 3\n",
    "all_templates = set()\n",
    "all_templates.add(p2)\n",
    "all_templates.add(p3)\n",
    "\n",
    "template2prob = dict()\n",
    "template2prob[p2] = p2\n",
    "template2prob[p3] = p3\n",
    "\n",
    "for elem1 in templates_2:\n",
    "    for elem2 in templates_2:\n",
    "        all_templates.add((elem1, elem2))\n",
    "        template2prob[(elem1, elem2)] = p1*template_prob_2[elem1]*template_prob_2[elem2]\n",
    "               \n",
    "len(template2prob)"
   ]
  },
  {
   "cell_type": "markdown",
   "metadata": {},
   "source": [
    "# 2-ways dict between templates and trees"
   ]
  },
  {
   "cell_type": "code",
   "execution_count": 11,
   "metadata": {},
   "outputs": [],
   "source": [
    "def tree_to_template(tree, depth=0):\n",
    "    if isinstance(tree, tuple) and depth<2:\n",
    "        return (tree_to_template(tree[0], depth+1), tree_to_template(tree[1], depth+1))\n",
    "    \n",
    "    if isinstance(tree, tuple):\n",
    "        return tuple()\n",
    "    \n",
    "    return tree\n",
    "\n",
    "trees2templates = bidict() # initial bidirection dictionary (can't be stored with pickle.....)\n",
    "\n",
    "for tree in all_trees:\n",
    "    trees2templates[tree] = tree_to_template(tree)\n",
    "    \n",
    "# 2 dict for the 2 directions \n",
    "template2trees = trees2templates.inverse\n",
    "tree2template  = dict(trees2templates)"
   ]
  },
  {
   "cell_type": "markdown",
   "metadata": {},
   "source": [
    "# 2-ways dict betweem rhythms and templates"
   ]
  },
  {
   "cell_type": "code",
   "execution_count": 12,
   "metadata": {},
   "outputs": [
    {
     "data": {
      "text/plain": [
       "123"
      ]
     },
     "execution_count": 12,
     "metadata": {},
     "output_type": "execute_result"
    }
   ],
   "source": [
    "rhythm2templates = dict()\n",
    "\n",
    "for rhythm in all_rhythms:\n",
    "    temp_set = set()\n",
    "    for tree in rhythm2trees[rhythm]:\n",
    "        temp_set.add(tree2template[tree])\n",
    "        \n",
    "    rhythm2templates[rhythm] = temp_set\n",
    "\n",
    "#-----------------------\n",
    "\n",
    "template2rhythms = dict()\n",
    "\n",
    "for template in all_templates:\n",
    "    rhythm_set = set()\n",
    "    for tree in template2trees[template]:\n",
    "        rhythm_set.add(tree2rhythm[tree])\n",
    "        \n",
    "    template2rhythms[template] = rhythm_set\n",
    "    \n",
    "len(template2rhythms)"
   ]
  },
  {
   "cell_type": "markdown",
   "metadata": {},
   "source": [
    "# Prob of a rhythm knowing its template"
   ]
  },
  {
   "cell_type": "code",
   "execution_count": 58,
   "metadata": {},
   "outputs": [
    {
     "data": {
      "text/plain": [
       "1446"
      ]
     },
     "execution_count": 58,
     "metadata": {},
     "output_type": "execute_result"
    }
   ],
   "source": [
    "rhythm_template2prob = dict()\n",
    "\n",
    "for template in all_templates:\n",
    "    temp_prob = template2prob[template]\n",
    "    for rhythm in template2rhythms[template]:\n",
    "        connection_trees_prob=0\n",
    "        for tree in template2trees[template]:\n",
    "            if (tree in rhythm2trees[rhythm]):\n",
    "                connection_trees_prob += tree2prob[tree]\n",
    "                \n",
    "        rhythm_template2prob[(rhythm, template)] = connection_trees_prob / temp_prob\n",
    "              \n",
    "len(rhythm_template2prob)"
   ]
  },
  {
   "cell_type": "markdown",
   "metadata": {},
   "source": [
    "# Dict template to its entropy"
   ]
  },
  {
   "cell_type": "code",
   "execution_count": 466,
   "metadata": {},
   "outputs": [
    {
     "data": {
      "text/plain": [
       "123"
      ]
     },
     "execution_count": 466,
     "metadata": {},
     "output_type": "execute_result"
    }
   ],
   "source": [
    "from theano.ifelse import ifelse\n",
    "\n",
    "zero = T.dscalar('zero') # Stupid zero value to replace infinite logarithms with zero\n",
    "\n",
    "template2entropy = dict()\n",
    "\n",
    "for template in all_templates:\n",
    "    all_probs=list()\n",
    "    if(not template2rhythms[template]):\n",
    "        print(f\"Warning! No rhythm was assigned to the template {template}\")\n",
    "    for rhythm in template2rhythms[template]:\n",
    "        modified_log = ifelse(T.isinf(T.log2(rhythm2prob[rhythm])), zero, T.log2(rhythm2prob[rhythm]) ) # Avoid NaNs by replacing them with zeros        \n",
    "        all_probs.append(modified_log*rhythm2prob[rhythm])\n",
    "        \n",
    "    template2entropy[template] = T.sum(all_probs, axis=0)\n",
    "            \n",
    "len(template2entropy)"
   ]
  },
  {
   "cell_type": "code",
   "execution_count": 478,
   "metadata": {},
   "outputs": [
    {
     "data": {
      "text/plain": [
       "123"
      ]
     },
     "execution_count": 478,
     "metadata": {},
     "output_type": "execute_result"
    }
   ],
   "source": [
    "# 'template2entropy_f' : Dictionnary of templates to their actual Python functions\n",
    "from theano import In\n",
    "template2entropy_f = dict()\n",
    "for template in all_templates:\n",
    "    template2entropy_f[template] = theano.function([p1, p2, p3, In(zero, value=1)], template2entropy[template], on_unused_input='ignore')\n",
    "    \n",
    "len(template2entropy_f)"
   ]
  },
  {
   "cell_type": "markdown",
   "metadata": {},
   "source": [
    "# Dict template to its ENB"
   ]
  },
  {
   "cell_type": "code",
   "execution_count": 370,
   "metadata": {},
   "outputs": [
    {
     "data": {
      "text/plain": [
       "123"
      ]
     },
     "execution_count": 370,
     "metadata": {},
     "output_type": "execute_result"
    }
   ],
   "source": [
    "# Weigths for the ENB\n",
    "weights = (1,) * L\n",
    "\n",
    "def rhythm_to_NB(rhythm):\n",
    "    NB = 0\n",
    "    for i in range (len(rhythm)):\n",
    "        if(rhythm[i]=='1'):\n",
    "            NB+=weights[i]       \n",
    "    return NB\n",
    "\n",
    "template2ENB = dict()\n",
    "\n",
    "# 'template2ENB' : Dictionnary of templates to their symbolic ENB function\n",
    "for template in all_templates:\n",
    "    ENB = 0\n",
    "    for rhythm in template2rhythms[template]:\n",
    "        ENB += rhythm_to_NB(rhythm) * rhythm_template2prob[(rhythm, template)]\n",
    "        \n",
    "    template2ENB[template] = ENB\n",
    "    \n",
    "len(template2ENB)"
   ]
  },
  {
   "cell_type": "code",
   "execution_count": 371,
   "metadata": {},
   "outputs": [
    {
     "data": {
      "text/plain": [
       "123"
      ]
     },
     "execution_count": 371,
     "metadata": {},
     "output_type": "execute_result"
    }
   ],
   "source": [
    "# 'template2ENB_f' : Dictionnary of templates to their actual Python functions\n",
    "template2ENB_f = dict()\n",
    "for template in all_templates:\n",
    "    template2ENB_f[template] = theano.function([p1, p2, p3], template2ENB[template], on_unused_input='ignore')\n",
    "    \n",
    "len(template2ENB_f)"
   ]
  },
  {
   "cell_type": "markdown",
   "metadata": {},
   "source": [
    "# Find pairs of similar templates with GD"
   ]
  },
  {
   "cell_type": "code",
   "execution_count": 310,
   "metadata": {
    "scrolled": false
   },
   "outputs": [],
   "source": [
    "step = 0.01\n",
    "max_iter = 10000\n",
    "cost = T.sqr( template2ENB[template1]-template2ENB[template2] ) + T.sqr( template2entropy[template1]-template2entropy[template2] ) + T.sqr( p1+p2+p3-1 )\n",
    "cost_f = theano.function([p1, p2, p3], cost, on_unused_input='ignore')\n",
    "gp1, gp2, gp3 = T.grad(cost, [p1, p2, p3]) # gradient computation\n",
    "gp1_f, gp2_f, gp3_f = theano.function([p1, p2, p3], gp1), theano.function([p1, p2, p3], gp2), theano.function([p1, p2, p3], gp3)\n",
    "\n",
    "# We need this decorator function for the minimizer, since the theano cost_f functions as a non-determined number of input arguments\n",
    "# This one concretizes the input arguments for the minimizer\n",
    "def cost_f2(a):\n",
    "    return cost_f(a[0], a[1], a[2])"
   ]
  },
  {
   "cell_type": "code",
   "execution_count": 325,
   "metadata": {},
   "outputs": [
    {
     "data": {
      "text/plain": [
       "     fun: 3.6544980235567035e-26\n",
       "     jac: array([1.49011610e-08, 1.49011610e-08, 1.00880915e-05])\n",
       " message: 'Optimization terminated successfully.'\n",
       "    nfev: 10\n",
       "     nit: 2\n",
       "    njev: 2\n",
       "  status: 0\n",
       " success: True\n",
       "       x: array([1.00000000e+00, 1.54321000e-14, 3.99680289e-15])"
      ]
     },
     "execution_count": 325,
     "metadata": {},
     "output_type": "execute_result"
    }
   ],
   "source": [
    "from scipy.optimize import minimize\n",
    "\n",
    "bnds = ((0, 1), (0, 1), (0, 1)) # variable bounds\n",
    "\n",
    "def con(a): # function for constraint (probs sum up to 1)\n",
    "    return a[0]+a[1]+a[2]-1\n",
    "cons = {'type':'eq', 'fun': con}\n",
    "\n",
    "x0 = np.array([1/3, 1/3, 1/3])\n",
    "\n",
    "#minimize(cost_f2, x0)\n",
    "minimize(cost_f2, x0, bounds=bnds, constraints=cons)"
   ]
  },
  {
   "cell_type": "code",
   "execution_count": 344,
   "metadata": {},
   "outputs": [
    {
     "data": {
      "image/png": "[encoded data removed]",
      "text/plain": [
       "<matplotlib.figure.Figure at 0x27310822cc0>"
      ]
     },
     "metadata": {
      "needs_background": "light"
     },
     "output_type": "display_data"
    }
   ],
   "source": [
    "#Graph for the loss function\n",
    "import ternary\n",
    "from ternary.helpers import simplex_iterator\n",
    "scale = 15\n",
    "def generate_heatmap_data(scale=scale):\n",
    "    d = dict()\n",
    "    for (i, j, k) in simplex_iterator(scale):\n",
    "        d[(i, j, k)] = cost_f2([i/scale,j/scale,k/scale])\n",
    "    return d\n",
    "\n",
    "data = generate_heatmap_data(scale)\n",
    "figure, tax = ternary.figure(scale=scale)\n",
    "tax.heatmap(data, style=\"triangular\", cmap=plt.cm.gist_stern)\n",
    "#tax.boundary()\n",
    "fontsize = 15\n",
    "tax.set_title(\"Loss function\", fontsize=fontsize,y=1.12)\n",
    "tax.left_corner_label(\"p3\", fontsize=fontsize)\n",
    "tax.right_corner_label(\"p1\", fontsize=fontsize)\n",
    "tax.top_corner_label(\"p2\", fontsize=fontsize)\n",
    "plt.axis('off')\n",
    "plt.savefig(\"graphs/loss\", dpi=400, bbox_inches='tight')\n",
    "plt.plot()\n",
    "\n",
    "plt.show()"
   ]
  }
 ],
 "metadata": {
  "kernelspec": {
   "display_name": "Python 3",
   "language": "python",
   "name": "python3"
  },
  "language_info": {
   "codemirror_mode": {
    "name": "ipython",
    "version": 3
   },
   "file_extension": ".py",
   "mimetype": "text/x-python",
   "name": "python",
   "nbconvert_exporter": "python",
   "pygments_lexer": "ipython3",
   "version": "3.6.3"
  }
 },
 "nbformat": 4,
 "nbformat_minor": 2
}
