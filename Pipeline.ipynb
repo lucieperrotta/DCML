{
 "cells": [
  {
   "cell_type": "code",
   "execution_count": 1,
   "metadata": {},
   "outputs": [
    {
     "name": "stdout",
     "output_type": "stream",
     "text": [
      "pygame 1.9.4\n",
      "Hello from the pygame community. https://www.pygame.org/contribute.html\n"
     ]
    }
   ],
   "source": [
    "#Imports\n",
    "import numpy as np\n",
    "from midiutil import MIDIFile\n",
    "import matplotlib.pyplot as plt\n",
    "import ternary\n",
    "from ternary.helpers import simplex_iterator\n",
    "import graphviz\n",
    "import anytree as at\n",
    "from anytree import Node, RenderTree\n",
    "from anytree.exporter import DotExporter\n",
    "\n",
    "# helpers\n",
    "import sys\n",
    "sys.path.insert(0, 'helpers/')\n",
    "from tree_parser import TreeParser\n",
    "from midi import *\n",
    "\n",
    "import os\n",
    "os.environ[\"PATH\"] += os.pathsep + 'C:/Program Files (x86)/Graphviz2.38/bin/'"
   ]
  },
  {
   "cell_type": "code",
   "execution_count": null,
   "metadata": {},
   "outputs": [],
   "source": [
    "# Templates level 1\n",
    "templates_1 = set()\n",
    "templates_1.add(\"[p1]\")\n",
    "templates_1.add(\"[p2]\")\n",
    "templates_1.add(\"[p3]\")\n",
    "\n",
    "# Templates level 2\n",
    "templates_2 = set()\n",
    "templates_2.add(\"[p2]\")\n",
    "templates_2.add(\"[p3]\")\n",
    "\n",
    "for elem1 in templates_1:\n",
    "    for elem2 in templates_1:\n",
    "        templates_2.add((elem1, elem2))\n",
    "\n",
    "# Templates level 3\n",
    "templates_3 = set()\n",
    "templates_3.add(\"[p2]\")\n",
    "templates_3.add(\"[p3]\")\n",
    "\n",
    "for elem1 in templates_2:\n",
    "    for elem2 in templates_2:\n",
    "        templates_3.add((elem1, elem2))\n",
    "        \n",
    "# Templates level 4\n",
    "templates_4 = set()\n",
    "templates_4.add(\"[p2]\")\n",
    "templates_4.add(\"[p3]\")\n",
    "\n",
    "for elem1 in templates_3:\n",
    "    for elem2 in templates_3:\n",
    "        templates_4.add((elem1, elem2))\n",
    "        \n",
    "# Templates level 5\n",
    "templates_5 = set()\n",
    "templates_5.add(\"[p2]\")\n",
    "templates_5.add(\"[p3]\")\n",
    "\n",
    "for elem1 in templates_4:\n",
    "    for elem2 in templates_4:\n",
    "        templates_5.add((elem1, elem2))\n",
    "    \n",
    "\n",
    "templates_5"
   ]
  },
  {
   "cell_type": "code",
   "execution_count": 11,
   "metadata": {},
   "outputs": [
    {
     "data": {
      "text/plain": [
       "str"
      ]
     },
     "execution_count": 11,
     "metadata": {},
     "output_type": "execute_result"
    }
   ],
   "source": [
    "type((\"[p1]\"))"
   ]
  },
  {
   "cell_type": "code",
   "execution_count": null,
   "metadata": {
    "collapsed": true
   },
   "outputs": [],
   "source": []
  }
 ],
 "metadata": {
  "kernelspec": {
   "display_name": "Python 3",
   "language": "python",
   "name": "python3"
  },
  "language_info": {
   "codemirror_mode": {
    "name": "ipython",
    "version": 3
   },
   "file_extension": ".py",
   "mimetype": "text/x-python",
   "name": "python",
   "nbconvert_exporter": "python",
   "pygments_lexer": "ipython3",
   "version": "3.6.2"
  }
 },
 "nbformat": 4,
 "nbformat_minor": 2
}
