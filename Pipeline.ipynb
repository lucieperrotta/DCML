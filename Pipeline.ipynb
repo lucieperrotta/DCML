{
 "cells": [
  {
   "cell_type": "code",
   "execution_count": 1,
   "metadata": {
    "scrolled": true
   },
   "outputs": [
    {
     "name": "stdout",
     "output_type": "stream",
     "text": [
      "pygame 1.9.4\n",
      "Hello from the pygame community. https://www.pygame.org/contribute.html\n"
     ]
    }
   ],
   "source": [
    "#Imports\n",
    "import numpy as np\n",
    "from midiutil import MIDIFile\n",
    "import matplotlib.pyplot as plt\n",
    "import ternary\n",
    "from ternary.helpers import simplex_iterator\n",
    "import graphviz\n",
    "import anytree as at\n",
    "from anytree import Node, RenderTree\n",
    "from anytree.exporter import DotExporter\n",
    "import theano.tensor as T\n",
    "from theano import function\n",
    "import theano\n",
    "\n",
    "# helpers\n",
    "import sys\n",
    "sys.path.insert(0, 'helpers/')\n",
    "from tree_parser import TreeParser\n",
    "from midi import *\n",
    "\n",
    "import os\n",
    "os.environ[\"PATH\"] += os.pathsep + 'C:/Program Files (x86)/Graphviz2.38/bin/'"
   ]
  },
  {
   "cell_type": "code",
   "execution_count": 2,
   "metadata": {},
   "outputs": [],
   "source": [
    "# CONSTANTS\n",
    "L = 8 # length of measure\n",
    "N = int(np.log2(L)+1) # Number of levels (including 0)"
   ]
  },
  {
   "cell_type": "code",
   "execution_count": 3,
   "metadata": {},
   "outputs": [],
   "source": [
    "# Initial THEANO symbolic variables\n",
    "\n",
    "p1 = T.dscalar('p1')\n",
    "p2 = T.dscalar('p2')\n",
    "p3 = T.dscalar('p3')"
   ]
  },
  {
   "cell_type": "code",
   "execution_count": 4,
   "metadata": {},
   "outputs": [],
   "source": [
    "# 2-ways dictionary, not too slow...\n",
    "class bidict(dict):\n",
    "    def __init__(self, *args, **kwargs):\n",
    "        super(bidict, self).__init__(*args, **kwargs)\n",
    "        self.inverse = {}\n",
    "        for key, value in self.items():\n",
    "            self.inverse.setdefault(value,[]).append(key) \n",
    "\n",
    "    def __setitem__(self, key, value):\n",
    "        if key in self:\n",
    "            self.inverse[self[key]].remove(key) \n",
    "        super(bidict, self).__setitem__(key, value)\n",
    "        self.inverse.setdefault(value,[]).append(key)        \n",
    "\n",
    "    def __delitem__(self, key):\n",
    "        self.inverse.setdefault(self[key],[]).remove(key)\n",
    "        if self[key] in self.inverse and not self.inverse[self[key]]: \n",
    "            del self.inverse[self[key]]\n",
    "        super(bidict, self).__delitem__(key)"
   ]
  },
  {
   "cell_type": "markdown",
   "metadata": {},
   "source": [
    "# Set of all trees, and probability of all trees"
   ]
  },
  {
   "cell_type": "code",
   "execution_count": 6,
   "metadata": {},
   "outputs": [
    {
     "data": {
      "text/plain": [
       "1446"
      ]
     },
     "execution_count": 6,
     "metadata": {},
     "output_type": "execute_result"
    }
   ],
   "source": [
    "#With direct computation of the probs (very slow)\n",
    "\n",
    "\n",
    "# Templates level 1\n",
    "templates_1 = set()\n",
    "templates_1.add(p2)\n",
    "templates_1.add(p3)\n",
    "\n",
    "tree_prob_1 = dict()\n",
    "tree_prob_1[p2] = p2\n",
    "tree_prob_1[p3] = p3\n",
    "\n",
    "# Templates level 2\n",
    "templates_2 = set()\n",
    "templates_2.add(p2)\n",
    "templates_2.add(p3)\n",
    "\n",
    "tree_prob_2 = dict()\n",
    "tree_prob_2[p2] = p2\n",
    "tree_prob_2[p3] = p3\n",
    "\n",
    "for elem1 in templates_1:\n",
    "    for elem2 in templates_1:\n",
    "        templates_2.add((elem1, elem2))      \n",
    "        tree_prob_2[(elem1, elem2)] = p1*tree_prob_1[elem1]*tree_prob_1[elem2]\n",
    "\n",
    "# Templates level 3\n",
    "templates_3 = set()\n",
    "templates_3.add(p2)\n",
    "templates_3.add(p3)\n",
    "\n",
    "tree_prob_3 = dict()\n",
    "tree_prob_3[p2] = p2\n",
    "tree_prob_3[p3] = p3\n",
    "\n",
    "for elem1 in templates_2:\n",
    "    for elem2 in templates_2:\n",
    "        templates_3.add((elem1, elem2))\n",
    "        tree_prob_3[(elem1, elem2)] = p1*tree_prob_2[elem1]*tree_prob_2[elem2]\n",
    "        \n",
    "# Templates level 4\n",
    "templates_4 = set()\n",
    "templates_4.add(p2)\n",
    "templates_4.add(p3)\n",
    "\n",
    "tree_prob_4 = dict()\n",
    "tree_prob_4[p2] = p2\n",
    "tree_prob_4[p3] = p3\n",
    "\n",
    "for elem1 in templates_3:\n",
    "    for elem2 in templates_3:\n",
    "        templates_4.add((elem1, elem2))\n",
    "        tree_prob_4[(elem1, elem2)] = p1*tree_prob_3[elem1]*tree_prob_3[elem2]\n",
    "        \n",
    "# Templates level 5\n",
    "all_trees = set()\n",
    "all_trees.add(p2)\n",
    "all_trees.add(p3)\n",
    "\n",
    "tree2prob = dict()\n",
    "tree2prob[p2] = p2\n",
    "tree2prob[p3] = p3\n",
    "\n",
    "for elem1 in templates_3:\n",
    "    for elem2 in templates_3:\n",
    "        all_trees.add((elem1, elem2))\n",
    "        tree2prob[(elem1, elem2)] = p1*tree_prob_3[elem1]*tree_prob_3[elem2]\n",
    "        \n",
    "len(tree2prob)"
   ]
  },
  {
   "cell_type": "markdown",
   "metadata": {},
   "source": [
    "# Set of all rhythms"
   ]
  },
  {
   "cell_type": "code",
   "execution_count": 7,
   "metadata": {},
   "outputs": [
    {
     "data": {
      "text/plain": [
       "256"
      ]
     },
     "execution_count": 7,
     "metadata": {},
     "output_type": "execute_result"
    }
   ],
   "source": [
    "all_rhythms = set()\n",
    "\n",
    "for i in range(2**L): # populating\n",
    "    all_rhythms.add( tuple((\"{0:0%sb}\" %L).format(i)) )\n",
    "    \n",
    "len(all_rhythms)"
   ]
  },
  {
   "cell_type": "markdown",
   "metadata": {},
   "source": [
    "# 2-way dictionnary between trees and rhythms"
   ]
  },
  {
   "cell_type": "code",
   "execution_count": 8,
   "metadata": {
    "scrolled": true
   },
   "outputs": [
    {
     "data": {
      "text/plain": [
       "256"
      ]
     },
     "execution_count": 8,
     "metadata": {},
     "output_type": "execute_result"
    }
   ],
   "source": [
    "def tree_to_rhythm(tree, size=L):    \n",
    "    if(p2 == tree):\n",
    "        tup = ('1',) + ('0',) * int(size-1)\n",
    "        return tup    \n",
    "    elif(p3 == tree):\n",
    "        tup = ('0',) * int(size)\n",
    "        return tup    \n",
    "    else:\n",
    "        return tree_to_rhythm(tree[0], size/2) + tree_to_rhythm(tree[1], size/2)\n",
    "    \n",
    "trees2rhythms = bidict() # initial bidirection dictionary (can't be stored with pickle.....)\n",
    "\n",
    "for tree in all_trees:\n",
    "    trees2rhythms[tree] = tree_to_rhythm(tree)\n",
    "    \n",
    "# 2 dict for the 2 directions \n",
    "rhythm2trees = trees2rhythms.inverse\n",
    "tree2rhythm  = dict(trees2rhythms)\n",
    "\n",
    "len(rhythm2trees)"
   ]
  },
  {
   "cell_type": "markdown",
   "metadata": {},
   "source": [
    "# Probability of each rhythm (set)"
   ]
  },
  {
   "cell_type": "code",
   "execution_count": 9,
   "metadata": {},
   "outputs": [],
   "source": [
    "rhythm2prob = {}\n",
    "\n",
    "for rhythm in all_rhythms: \n",
    "    prob_rhythm = 0\n",
    "    for tree in rhythm2trees[rhythm]:\n",
    "        prob_rhythm += tree2prob[tree]\n",
    "        \n",
    "    rhythm2prob[rhythm] = prob_rhythm\n",
    "\n",
    "#save\n",
    "import pickle\n",
    "with open('files/rhythm2prob.pickle', 'wb') as f:\n",
    "    pickle.dump(rhythm2prob, f)\n",
    "    "
   ]
  },
  {
   "cell_type": "markdown",
   "metadata": {},
   "source": [
    "# Set of all templates, and probability of a template"
   ]
  },
  {
   "cell_type": "code",
   "execution_count": 36,
   "metadata": {},
   "outputs": [
    {
     "data": {
      "text/plain": [
       "123"
      ]
     },
     "execution_count": 36,
     "metadata": {},
     "output_type": "execute_result"
    }
   ],
   "source": [
    "# Templates level 1\n",
    "templates_1 = set()\n",
    "templates_1.add(p2)\n",
    "templates_1.add(p3)\n",
    "templates_1.add(tuple())\n",
    "\n",
    "template_prob_1 = dict()\n",
    "template_prob_1[p2] = p2\n",
    "template_prob_1[p3] = p3\n",
    "template_prob_1[tuple()] = p1\n",
    "\n",
    "# Templates level 2\n",
    "templates_2 = set()\n",
    "templates_2.add(p2)\n",
    "templates_2.add(p3)\n",
    "\n",
    "template_prob_2 = dict()\n",
    "template_prob_2[p2] = p2\n",
    "template_prob_2[p3] = p3\n",
    "\n",
    "for elem1 in templates_1:\n",
    "    for elem2 in templates_1:\n",
    "        templates_2.add((elem1, elem2))\n",
    "        template_prob_2[(elem1, elem2)] = p1*template_prob_1[elem1]*template_prob_1[elem2]\n",
    "        \n",
    "# Templates level 3\n",
    "all_templates = set()\n",
    "all_templates.add(p2)\n",
    "all_templates.add(p3)\n",
    "\n",
    "template2prob = dict()\n",
    "template2prob[p2] = p2\n",
    "template2prob[p3] = p3\n",
    "\n",
    "for elem1 in templates_2:\n",
    "    for elem2 in templates_2:\n",
    "        all_templates.add((elem1, elem2))\n",
    "        template2prob[(elem1, elem2)] = p1*template_prob_2[elem1]*template_prob_2[elem2]\n",
    "               \n",
    "len(template2prob)"
   ]
  },
  {
   "cell_type": "markdown",
   "metadata": {},
   "source": [
    "# 2-ways dict between templates and trees"
   ]
  },
  {
   "cell_type": "code",
   "execution_count": 11,
   "metadata": {},
   "outputs": [],
   "source": [
    "def tree_to_template(tree, depth=0):\n",
    "    if isinstance(tree, tuple) and depth<2:\n",
    "        return (tree_to_template(tree[0], depth+1), tree_to_template(tree[1], depth+1))\n",
    "    \n",
    "    if isinstance(tree, tuple):\n",
    "        return tuple()\n",
    "    \n",
    "    return tree\n",
    "\n",
    "trees2templates = bidict() # initial bidirection dictionary (can't be stored with pickle.....)\n",
    "\n",
    "for tree in all_trees:\n",
    "    trees2templates[tree] = tree_to_template(tree)\n",
    "    \n",
    "# 2 dict for the 2 directions \n",
    "template2trees = trees2templates.inverse\n",
    "tree2template  = dict(trees2templates)"
   ]
  },
  {
   "cell_type": "markdown",
   "metadata": {},
   "source": [
    "# 2-ways dict betweem rhythms and templates"
   ]
  },
  {
   "cell_type": "code",
   "execution_count": 12,
   "metadata": {},
   "outputs": [
    {
     "data": {
      "text/plain": [
       "123"
      ]
     },
     "execution_count": 12,
     "metadata": {},
     "output_type": "execute_result"
    }
   ],
   "source": [
    "rhythm2templates = dict()\n",
    "\n",
    "for rhythm in all_rhythms:\n",
    "    temp_set = set()\n",
    "    for tree in rhythm2trees[rhythm]:\n",
    "        temp_set.add(tree2template[tree])\n",
    "        \n",
    "    rhythm2templates[rhythm] = temp_set\n",
    "\n",
    "#-----------------------\n",
    "\n",
    "template2rhythms = dict()\n",
    "\n",
    "for template in all_templates:\n",
    "    rhythm_set = set()\n",
    "    for tree in template2trees[template]:\n",
    "        rhythm_set.add(tree2rhythm[tree])\n",
    "        \n",
    "    template2rhythms[template] = rhythm_set\n",
    "    \n",
    "len(template2rhythms)"
   ]
  },
  {
   "cell_type": "markdown",
   "metadata": {},
   "source": [
    "# Prob of a rhythm knowing its template"
   ]
  },
  {
   "cell_type": "code",
   "execution_count": 58,
   "metadata": {},
   "outputs": [
    {
     "data": {
      "text/plain": [
       "1446"
      ]
     },
     "execution_count": 58,
     "metadata": {},
     "output_type": "execute_result"
    }
   ],
   "source": [
    "rhythm_template2prob = dict()\n",
    "\n",
    "for template in all_templates:\n",
    "    temp_prob = template2prob[template]\n",
    "    for rhythm in template2rhythms[template]:\n",
    "        connection_trees_prob=0\n",
    "        for tree in template2trees[template]:\n",
    "            if (tree in rhythm2trees[rhythm]):\n",
    "                connection_trees_prob += tree2prob[tree]\n",
    "                \n",
    "        rhythm_template2prob[(rhythm, template)] = connection_trees_prob / temp_prob\n",
    "              \n",
    "len(rhythm_template2prob)"
   ]
  },
  {
   "cell_type": "markdown",
   "metadata": {},
   "source": [
    "# Dict template to its entropy"
   ]
  },
  {
   "cell_type": "code",
   "execution_count": 14,
   "metadata": {},
   "outputs": [
    {
     "data": {
      "text/plain": [
       "123"
      ]
     },
     "execution_count": 14,
     "metadata": {},
     "output_type": "execute_result"
    }
   ],
   "source": [
    "template2entropy = dict()\n",
    "\n",
    "for template in all_templates:\n",
    "    all_probs=list()\n",
    "    for rhythm in template2rhythms[template]:\n",
    "        all_probs.append( rhythm2prob[rhythm] )\n",
    "                         \n",
    "    template2entropy[template] = -T.sum(T.log2(all_probs) * all_probs)\n",
    "    \n",
    "#save\n",
    "import pickle\n",
    "with open('files/template2entropy.pickle', 'wb') as f:\n",
    "    pickle.dump(template2entropy, f)\n",
    "            \n",
    "len(template2entropy)"
   ]
  },
  {
   "cell_type": "markdown",
   "metadata": {},
   "source": [
    "# Dict template to its ENB"
   ]
  },
  {
   "cell_type": "code",
   "execution_count": 60,
   "metadata": {},
   "outputs": [
    {
     "data": {
      "text/plain": [
       "123"
      ]
     },
     "execution_count": 60,
     "metadata": {},
     "output_type": "execute_result"
    }
   ],
   "source": [
    "# Weigths for the ENB\n",
    "weights = (1,) * L\n",
    "\n",
    "def rhythm_to_NB(rhythm):\n",
    "    NB = 0\n",
    "    for i in range (len(rhythm)):\n",
    "        if(rhythm[i]=='1'):\n",
    "            NB+=weights[i]       \n",
    "    return NB\n",
    "\n",
    "template2ENB = dict()\n",
    "\n",
    "for template in all_templates:\n",
    "    ENB = 0\n",
    "    for rhythm in template2rhythms[template]:\n",
    "        ENB += rhythm_to_NB(rhythm) * rhythm_template2prob[(rhythm, template)]\n",
    "        \n",
    "    template2ENB[template] = ENB\n",
    "    \n",
    "len(template2ENB)"
   ]
  },
  {
   "cell_type": "markdown",
   "metadata": {},
   "source": [
    "# Find pairs of similar templates with GD"
   ]
  },
  {
   "cell_type": "code",
   "execution_count": 279,
   "metadata": {
    "scrolled": false
   },
   "outputs": [],
   "source": [
    "step = 0.01\n",
    "max_iter = 10000\n",
    "cost = T.sqr( template2ENB[template1]-template2ENB[template2] ) + T.sqr( template2entropy[template1]-template2entropy[template2] ) + T.sqr( p1+p2+p3-1 )\n",
    "gp1, gp2, gp3 = T.grad(cost, [p1, p2, p3]) # gradient computation\n",
    "gp1_f, gp2_f, gp3_f = theano.function([p1, p2, p3], gp1), theano.function([p1, p2, p3], gp2), theano.function([p1, p2, p3], gp3)"
   ]
  },
  {
   "cell_type": "code",
   "execution_count": 280,
   "metadata": {},
   "outputs": [
    {
     "data": {
      "image/png": "[encoded data removed]",
      "text/plain": [
       "<matplotlib.figure.Figure at 0x27301e7b438>"
      ]
     },
     "metadata": {
      "needs_background": "light"
     },
     "output_type": "display_data"
    }
   ],
   "source": [
    "p1_num = 1/3 # arbitrary initial values\n",
    "p2_num = 1/3\n",
    "p3_num = 1/3\n",
    "\n",
    "GD = list()\n",
    "for i in range(max_iter):\n",
    "    p1_num, p2_num, p3_num = np.clip(p1_num - step * gp1_f(p1_num, p2_num, p3_num), 0, 1),  np.clip(p2_num - step * gp2_f(p1_num, p2_num, p3_num), 0, 1),  np.clip(p3_num - step * gp3_f(p1_num, p2_num, p3_num), 0, 1)\n",
    "    GD.append((p1_num, p2_num, p3_num))\n",
    "\n",
    "plt.plot(GD, label=\"p\")\n",
    "plt.legend(loc='upper left')\n",
    "plt.show()"
   ]
  },
  {
   "cell_type": "code",
   "execution_count": 281,
   "metadata": {},
   "outputs": [
    {
     "data": {
      "text/plain": [
       "(0.8492080390720381, 0.15022146457579397, 0.00044237482835659625)"
      ]
     },
     "execution_count": 281,
     "metadata": {},
     "output_type": "execute_result"
    }
   ],
   "source": [
    "p1_num, p2_num, p3_num"
   ]
  },
  {
   "cell_type": "code",
   "execution_count": 285,
   "metadata": {},
   "outputs": [
    {
     "data": {
      "text/plain": [
       "(p3, p3)"
      ]
     },
     "execution_count": 285,
     "metadata": {},
     "output_type": "execute_result"
    }
   ],
   "source": [
    "template2"
   ]
  }
 ],
 "metadata": {
  "kernelspec": {
   "display_name": "Python 3",
   "language": "python",
   "name": "python3"
  },
  "language_info": {
   "codemirror_mode": {
    "name": "ipython",
    "version": 3
   },
   "file_extension": ".py",
   "mimetype": "text/x-python",
   "name": "python",
   "nbconvert_exporter": "python",
   "pygments_lexer": "ipython3",
   "version": "3.6.3"
  }
 },
 "nbformat": 4,
 "nbformat_minor": 2
}
