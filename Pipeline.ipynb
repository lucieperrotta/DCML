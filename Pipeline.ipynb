{
 "cells": [
  {
   "cell_type": "code",
   "execution_count": 1,
   "metadata": {
    "scrolled": true
   },
   "outputs": [
    {
     "name": "stderr",
     "output_type": "stream",
     "text": [
      "WARNING (theano.configdefaults): g++ not available, if using conda: `conda install m2w64-toolchain`\n",
      "C:\\Users\\Spouep\\Anaconda3\\lib\\site-packages\\theano\\configdefaults.py:560: UserWarning: DeprecationWarning: there is no c++ compiler.This is deprecated and with Theano 0.11 a c++ compiler will be mandatory\n",
      "  warnings.warn(\"DeprecationWarning: there is no c++ compiler.\"\n",
      "WARNING (theano.configdefaults): g++ not detected ! Theano will be unable to execute optimized C-implementations (for both CPU and GPU) and will default to Python implementations. Performance will be severely degraded. To remove this warning, set Theano flags cxx to an empty string.\n",
      "WARNING (theano.tensor.blas): Using NumPy C-API based implementation for BLAS functions.\n"
     ]
    },
    {
     "name": "stdout",
     "output_type": "stream",
     "text": [
      "pygame 1.9.4\n",
      "Hello from the pygame community. https://www.pygame.org/contribute.html\n"
     ]
    }
   ],
   "source": [
    "#Imports\n",
    "import numpy as np\n",
    "from midiutil import MIDIFile\n",
    "import matplotlib.pyplot as plt\n",
    "import ternary\n",
    "from ternary.helpers import simplex_iterator\n",
    "import graphviz\n",
    "import anytree as at\n",
    "from anytree import Node, RenderTree\n",
    "from anytree.exporter import DotExporter\n",
    "import theano.tensor as T\n",
    "from theano import function\n",
    "\n",
    "# helpers\n",
    "import sys\n",
    "sys.path.insert(0, 'helpers/')\n",
    "from tree_parser import TreeParser\n",
    "from midi import *\n",
    "\n",
    "import os\n",
    "os.environ[\"PATH\"] += os.pathsep + 'C:/Program Files (x86)/Graphviz2.38/bin/'"
   ]
  },
  {
   "cell_type": "code",
   "execution_count": 2,
   "metadata": {},
   "outputs": [],
   "source": [
    "# CONSTANTS\n",
    "L = 16 # length of measure\n",
    "N = int(np.log2(L)+1) # Number of levels (including 0)"
   ]
  },
  {
   "cell_type": "code",
   "execution_count": 48,
   "metadata": {},
   "outputs": [],
   "source": [
    "# Initial THEANO symbolic variables\n",
    "\n",
    "p1 = T.dscalar('p1')\n",
    "p2 = T.dscalar('p2')\n",
    "p3 = T.dscalar('p3')"
   ]
  },
  {
   "cell_type": "code",
   "execution_count": 4,
   "metadata": {},
   "outputs": [],
   "source": [
    "# 2-ways dictionary, not too slow...\n",
    "class bidict(dict):\n",
    "    def __init__(self, *args, **kwargs):\n",
    "        super(bidict, self).__init__(*args, **kwargs)\n",
    "        self.inverse = {}\n",
    "        for key, value in self.items():\n",
    "            self.inverse.setdefault(value,[]).append(key) \n",
    "\n",
    "    def __setitem__(self, key, value):\n",
    "        if key in self:\n",
    "            self.inverse[self[key]].remove(key) \n",
    "        super(bidict, self).__setitem__(key, value)\n",
    "        self.inverse.setdefault(value,[]).append(key)        \n",
    "\n",
    "    def __delitem__(self, key):\n",
    "        self.inverse.setdefault(self[key],[]).remove(key)\n",
    "        if self[key] in self.inverse and not self.inverse[self[key]]: \n",
    "            del self.inverse[self[key]]\n",
    "        super(bidict, self).__delitem__(key)"
   ]
  },
  {
   "cell_type": "markdown",
   "metadata": {},
   "source": [
    "# Import stored pickle files"
   ]
  },
  {
   "cell_type": "code",
   "execution_count": 35,
   "metadata": {},
   "outputs": [],
   "source": [
    "import pickle\n",
    "from six.moves import cPickle\n",
    "\n",
    "all_trees = cPickle.load( open( \"files/all_trees.pickle\", \"rb\" ) )\n",
    "all_rhythms = pickle.load( open( \"files/all_rhythms.pickle\", \"rb\" ) )\n",
    "tree2rhythm = pickle.load( open( \"files/tree2rhythm.pickle\", \"rb\" ) )\n",
    "rhythm2trees = pickle.load( open( \"files/rhythm2trees.pickle\", \"rb\" ) )\n",
    "#tree2prob = pickle.load( open( \"files/tree2prob.pickle\", \"rb\" ) )"
   ]
  },
  {
   "cell_type": "markdown",
   "metadata": {},
   "source": [
    "# Set of all trees"
   ]
  },
  {
   "cell_type": "code",
   "execution_count": 50,
   "metadata": {},
   "outputs": [
    {
     "data": {
      "text/plain": [
       "2090918"
      ]
     },
     "execution_count": 50,
     "metadata": {},
     "output_type": "execute_result"
    }
   ],
   "source": [
    "# Templates level 1\n",
    "templates_1 = set()\n",
    "templates_1.add(p2)\n",
    "templates_1.add(p3)\n",
    "\n",
    "# Templates level 2\n",
    "templates_2 = set()\n",
    "templates_2.add(p2)\n",
    "templates_2.add(p3)\n",
    "\n",
    "for elem1 in templates_1:\n",
    "    for elem2 in templates_1:\n",
    "        templates_2.add((elem1, elem2))\n",
    "        \n",
    "# Templates level 3\n",
    "templates_3 = set()\n",
    "templates_3.add(p2)\n",
    "templates_3.add(p3)\n",
    "\n",
    "for elem1 in templates_2:\n",
    "    for elem2 in templates_2:\n",
    "        templates_3.add((elem1, elem2))\n",
    "        \n",
    "# Templates level 4\n",
    "templates_4 = set()\n",
    "templates_4.add(p2)\n",
    "templates_4.add(p3)\n",
    "\n",
    "for elem1 in templates_3:\n",
    "    for elem2 in templates_3:\n",
    "        templates_4.add((elem1, elem2))\n",
    "        \n",
    "# Templates level 5\n",
    "all_trees = set()\n",
    "all_trees.add(p2)\n",
    "all_trees.add(p3)\n",
    "\n",
    "for elem1 in templates_4:\n",
    "    for elem2 in templates_4:\n",
    "        all_trees.add((elem1, elem2))\n",
    "        \n",
    "#save\n",
    "\n",
    "    \n",
    "from six.moves import cPickle\n",
    "with open('files/all_trees.pickle', 'wb') as f:\n",
    "    cPickle.dump(all_trees, f, protocol=cPickle.HIGHEST_PROTOCOL)\n",
    "\n",
    "len(all_trees)"
   ]
  },
  {
   "cell_type": "markdown",
   "metadata": {},
   "source": [
    "# Set of all rhythms"
   ]
  },
  {
   "cell_type": "code",
   "execution_count": 8,
   "metadata": {},
   "outputs": [
    {
     "data": {
      "text/plain": [
       "65536"
      ]
     },
     "execution_count": 8,
     "metadata": {},
     "output_type": "execute_result"
    }
   ],
   "source": [
    "all_rhythms = set()\n",
    "\n",
    "for i in range(2**16): # populating\n",
    "    all_rhythms.add( tuple((\"{0:0%sb}\" %L).format(i)) )\n",
    "    \n",
    "#save\n",
    "import pickle\n",
    "with open('files/all_rhythms.pickle', 'wb') as f:\n",
    "    pickle.dump(all_rhythms, f)\n",
    "    \n",
    "len(all_rhythms)"
   ]
  },
  {
   "cell_type": "markdown",
   "metadata": {},
   "source": [
    "# 2-way dictionnary between trees and rhythms"
   ]
  },
  {
   "cell_type": "code",
   "execution_count": 253,
   "metadata": {
    "scrolled": true
   },
   "outputs": [],
   "source": [
    "def tree_to_rhythm(tree, size=L):    \n",
    "    if(p2 == tree):\n",
    "        tup = ('1',) + ('0',) * int(size-1)\n",
    "        return tup    \n",
    "    elif(p3 == tree):\n",
    "        tup = ('0',) * int(size)\n",
    "        return tup    \n",
    "    else:\n",
    "        return tree_to_rhythm(tree[0], size/2) + tree_to_rhythm(tree[1], size/2)\n",
    "    \n",
    "trees2rhythms = bidict() # initial bidirection dictionary (can't be stored with pickle.....)\n",
    "\n",
    "for tree in all_trees:\n",
    "    trees2rhythms[tree] = tree_to_rhythm(tree)\n",
    "    \n",
    "# 2 dict for the 2 directions \n",
    "rhythm2trees = trees2rhythms.inverse\n",
    "tree2rhythm  = dict(trees2rhythms)\n",
    "\n",
    "#save\n",
    "import pickle\n",
    "with open('files/tree2rhythm.pickle', 'wb') as f:\n",
    "    pickle.dump(tree2rhythm, f)\n",
    "with open('files/rhythm2trees.pickle', 'wb') as f:\n",
    "    pickle.dump(rhythm2trees, f)"
   ]
  },
  {
   "cell_type": "markdown",
   "metadata": {},
   "source": [
    "# Probability of each tree (set)"
   ]
  },
  {
   "cell_type": "code",
   "execution_count": null,
   "metadata": {},
   "outputs": [
    {
     "name": "stdout",
     "output_type": "stream",
     "text": [
      "1000\n",
      "2000\n",
      "3000\n",
      "4000\n",
      "5000\n",
      "6000\n",
      "7000\n",
      "8000\n",
      "9000\n",
      "10000\n",
      "11000\n",
      "12000\n",
      "13000\n",
      "14000\n",
      "15000\n",
      "16000\n",
      "17000\n",
      "18000\n"
     ]
    }
   ],
   "source": [
    "def tree_to_prob(tree) -> T.TensorVariable :    \n",
    "    if(p2 == tree):\n",
    "        return p2 \n",
    "    elif(p3 == tree):\n",
    "        return p3\n",
    "    else:\n",
    "        return p1 * tree_to_prob(tree[0]) * tree_to_prob(tree[1])    \n",
    "\n",
    "tree2prob = {}\n",
    "i=0\n",
    "\n",
    "for tree in all_trees:\n",
    "    i+=1\n",
    "    if(i%1000 == 0):\n",
    "        print(i)\n",
    "        \n",
    "    tree2prob[tree] = tree_to_prob(tree)\n",
    "    \n",
    "#save\n",
    "import pickle\n",
    "with open('files/tree2prob.pickle', 'wb') as f:\n",
    "    pickle.dump(tree2prob, f)"
   ]
  },
  {
   "cell_type": "markdown",
   "metadata": {},
   "source": [
    "# Probability of each rhythm (set)"
   ]
  },
  {
   "cell_type": "code",
   "execution_count": null,
   "metadata": {},
   "outputs": [],
   "source": [
    "rhythm2prob = {}\n",
    "\n",
    "for rhythm in all_rhythms: \n",
    "    prob_rhythm = 0\n",
    "    for tree in rhythm2trees[rhythm]:\n",
    "        prob_rhythm += tree2prob[tree]\n",
    "        \n",
    "    rhythm2prob[rhythm] = prob_rhythm\n",
    "\n",
    "#save\n",
    "import pickle\n",
    "with open('files/rhythm2prob.pickle', 'wb') as f:\n",
    "    pickle.dump(rhythm2prob, f)"
   ]
  },
  {
   "cell_type": "markdown",
   "metadata": {},
   "source": [
    "# Set of all templates (useful?)"
   ]
  },
  {
   "cell_type": "code",
   "execution_count": 62,
   "metadata": {},
   "outputs": [
    {
     "data": {
      "text/plain": [
       "123"
      ]
     },
     "execution_count": 62,
     "metadata": {},
     "output_type": "execute_result"
    }
   ],
   "source": [
    "# Templates level 1\n",
    "templates_1 = set()\n",
    "templates_1.add(p2)\n",
    "templates_1.add(p3)\n",
    "templates_1.add(tuple())\n",
    "\n",
    "# Templates level 2\n",
    "templates_2 = set()\n",
    "templates_2.add(p2)\n",
    "templates_2.add(p3)\n",
    "\n",
    "for elem1 in templates_1:\n",
    "    for elem2 in templates_1:\n",
    "        templates_2.add((elem1, elem2))\n",
    "        \n",
    "# Templates level 3\n",
    "all_templates = set()\n",
    "all_templates.add(p2)\n",
    "all_templates.add(p3)\n",
    "\n",
    "for elem1 in templates_2:\n",
    "    for elem2 in templates_2:\n",
    "        all_templates.add((elem1, elem2))\n",
    "               \n",
    "#save \n",
    "from six.moves import cPickle\n",
    "with open('files/all_templates.pickle', 'wb') as f:\n",
    "    cPickle.dump(all_templates, f, protocol=cPickle.HIGHEST_PROTOCOL)\n",
    "\n",
    "len(all_templates)"
   ]
  },
  {
   "cell_type": "markdown",
   "metadata": {},
   "source": [
    "# 2-ways dict between templates and trees"
   ]
  },
  {
   "cell_type": "code",
   "execution_count": 233,
   "metadata": {},
   "outputs": [],
   "source": [
    "def tree_to_template(tree, depth=0):\n",
    "    if isinstance(tree, tuple) and depth<2:\n",
    "        return (tree_to_template(tree[0], depth+1), tree_to_template(tree[1], depth+1))\n",
    "    \n",
    "    if isinstance(tree, tuple):\n",
    "        return tuple()\n",
    "    \n",
    "    return tree\n",
    "\n",
    "trees2templates = bidict() # initial bidirection dictionary (can't be stored with pickle.....)\n",
    "\n",
    "for tree in all_trees:\n",
    "    trees2templates[tree] = tree_to_template(tree)\n",
    "    \n",
    "# 2 dict for the 2 directions \n",
    "template2trees = trees2templates.inverse\n",
    "tree2template  = dict(trees2templates)\n",
    "\n",
    "#save\n",
    "import pickle\n",
    "with open('files/tree2template.pickle', 'wb') as f:\n",
    "    pickle.dump(tree2template, f)\n",
    "with open('files/template2trees.pickle', 'wb') as f:\n",
    "    pickle.dump(template2trees, f)"
   ]
  },
  {
   "cell_type": "markdown",
   "metadata": {},
   "source": [
    "# 2-ways dict betweem rhythms and templates"
   ]
  },
  {
   "cell_type": "code",
   "execution_count": 222,
   "metadata": {},
   "outputs": [
    {
     "name": "stdout",
     "output_type": "stream",
     "text": [
      "(((p3, (p2, p2)), ((p3, p2), (p3, p3))), (((p2, p2), p3), ((p3, p2), (p2, p3))))\n"
     ]
    },
    {
     "ename": "KeyError",
     "evalue": "(((p3, (p2, p2)), ((p3, p2), (p3, p3))), (((p2, p2), p3), ((p3, p2), (p2, p3))))",
     "output_type": "error",
     "traceback": [
      "\u001b[1;31m---------------------------------------------------------------------------\u001b[0m",
      "\u001b[1;31mKeyError\u001b[0m                                  Traceback (most recent call last)",
      "\u001b[1;32m<ipython-input-222-f5c6cef4f38c>\u001b[0m in \u001b[0;36m<module>\u001b[1;34m()\u001b[0m\n\u001b[0;32m      5\u001b[0m     \u001b[1;32mfor\u001b[0m \u001b[0mtree\u001b[0m \u001b[1;32min\u001b[0m \u001b[0mrhythm2trees\u001b[0m\u001b[1;33m[\u001b[0m\u001b[0mrhythm\u001b[0m\u001b[1;33m]\u001b[0m\u001b[1;33m:\u001b[0m\u001b[1;33m\u001b[0m\u001b[0m\n\u001b[0;32m      6\u001b[0m         \u001b[0mprint\u001b[0m\u001b[1;33m(\u001b[0m\u001b[0mtree\u001b[0m\u001b[1;33m)\u001b[0m\u001b[1;33m\u001b[0m\u001b[0m\n\u001b[1;32m----> 7\u001b[1;33m         \u001b[0mlok\u001b[0m \u001b[1;33m=\u001b[0m \u001b[0mtree2template\u001b[0m\u001b[1;33m[\u001b[0m\u001b[0mtree\u001b[0m\u001b[1;33m]\u001b[0m\u001b[1;33m\u001b[0m\u001b[0m\n\u001b[0m\u001b[0;32m      8\u001b[0m         \u001b[0mtemp_list\u001b[0m\u001b[1;33m.\u001b[0m\u001b[0mappend\u001b[0m\u001b[1;33m(\u001b[0m\u001b[0mlok\u001b[0m\u001b[1;33m)\u001b[0m\u001b[1;33m\u001b[0m\u001b[0m\n\u001b[0;32m      9\u001b[0m \u001b[1;33m\u001b[0m\u001b[0m\n",
      "\u001b[1;31mKeyError\u001b[0m: (((p3, (p2, p2)), ((p3, p2), (p3, p3))), (((p2, p2), p3), ((p3, p2), (p2, p3))))"
     ]
    }
   ],
   "source": [
    "rhythm2templates = dict()\n",
    "\n",
    "for rhythm in all_rhythms:\n",
    "    temp_list = list()\n",
    "    for tree in rhythm2trees[rhythm]:\n",
    "        print(tree)\n",
    "        lok = tree2template[tree]\n",
    "        temp_list.append(lok)\n",
    "        \n",
    "    rhythm2templates[rhythm] = temp_list\n",
    "\n",
    "#save\n",
    "import pickle\n",
    "with open('files/rhythm2templates.pickle', 'wb') as f:\n",
    "    pickle.dump(rhythm2templates, f)"
   ]
  },
  {
   "cell_type": "code",
   "execution_count": 236,
   "metadata": {},
   "outputs": [
    {
     "name": "stdout",
     "output_type": "stream",
     "text": [
      "((p2, ((p3, p3), (p3, p3))), p3)\n"
     ]
    },
    {
     "ename": "KeyError",
     "evalue": "((p2, ((p3, p3), (p3, p3))), p3)",
     "output_type": "error",
     "traceback": [
      "\u001b[1;31m---------------------------------------------------------------------------\u001b[0m",
      "\u001b[1;31mKeyError\u001b[0m                                  Traceback (most recent call last)",
      "\u001b[1;32m<ipython-input-236-90fc168ca093>\u001b[0m in \u001b[0;36m<module>\u001b[1;34m()\u001b[0m\n\u001b[0;32m      5\u001b[0m     \u001b[1;32mfor\u001b[0m \u001b[0mtree\u001b[0m \u001b[1;32min\u001b[0m \u001b[0mtemplate2trees\u001b[0m\u001b[1;33m[\u001b[0m\u001b[0mtemplate\u001b[0m\u001b[1;33m]\u001b[0m\u001b[1;33m:\u001b[0m\u001b[1;33m\u001b[0m\u001b[0m\n\u001b[0;32m      6\u001b[0m         \u001b[0mprint\u001b[0m\u001b[1;33m(\u001b[0m\u001b[0mtree\u001b[0m\u001b[1;33m)\u001b[0m\u001b[1;33m\u001b[0m\u001b[0m\n\u001b[1;32m----> 7\u001b[1;33m         \u001b[0mlok\u001b[0m \u001b[1;33m=\u001b[0m \u001b[0mtree2rhythm\u001b[0m\u001b[1;33m[\u001b[0m\u001b[0mtree\u001b[0m\u001b[1;33m]\u001b[0m\u001b[1;33m\u001b[0m\u001b[0m\n\u001b[0m\u001b[0;32m      8\u001b[0m         \u001b[0mtemp_list\u001b[0m\u001b[1;33m.\u001b[0m\u001b[0mappend\u001b[0m\u001b[1;33m(\u001b[0m\u001b[0mlok\u001b[0m\u001b[1;33m)\u001b[0m\u001b[1;33m\u001b[0m\u001b[0m\n\u001b[0;32m      9\u001b[0m \u001b[1;33m\u001b[0m\u001b[0m\n",
      "\u001b[1;31mKeyError\u001b[0m: ((p2, ((p3, p3), (p3, p3))), p3)"
     ]
    }
   ],
   "source": [
    "template2rhythms = dict()\n",
    "\n",
    "for template in all_templates:\n",
    "    rhythm_list = list()\n",
    "    for tree in template2trees[template]:\n",
    "        print(tree)\n",
    "        lok = tree2rhythm[tree]\n",
    "        temp_list.append(lok)\n",
    "        \n",
    "    template2rhythms[template] = temp_list\n",
    "\n",
    "#save\n",
    "import pickle\n",
    "with open('files/rhythm2templates.pickle', 'wb') as f:\n",
    "    pickle.dump(rhythm2templates, f)"
   ]
  },
  {
   "cell_type": "markdown",
   "metadata": {},
   "source": [
    "# Dict template to its entropy"
   ]
  },
  {
   "cell_type": "code",
   "execution_count": null,
   "metadata": {},
   "outputs": [],
   "source": [
    "from scipy.stats import entropy\n",
    "template2entropy = dict()\n",
    "\n",
    "for template in templates:\n",
    "    all_probs=list()\n",
    "    for rhythm in template2rhythms[template]:\n",
    "        all_probs.append( rhythm2prob[rhythm] )\n",
    "    template2entropy[template] = entropy(all_probs)\n",
    "    \n",
    "#save\n",
    "import pickle\n",
    "with open('files/template2entropy.pickle', 'wb') as f:\n",
    "    pickle.dump(template2entropy, f)"
   ]
  },
  {
   "cell_type": "markdown",
   "metadata": {},
   "source": [
    "# Dict template to its ENB"
   ]
  },
  {
   "cell_type": "code",
   "execution_count": 278,
   "metadata": {},
   "outputs": [],
   "source": [
    "# Weigths for the ENB\n",
    "W1 = T.dscalar('W1')\n",
    "W2 = T.dscalar('W2')\n",
    "W4 = T.dscalar('W4')\n",
    "W8 = T.dscalar('W8')\n",
    "W16 = T.dscalar('W16')"
   ]
  },
  {
   "cell_type": "code",
   "execution_count": null,
   "metadata": {},
   "outputs": [],
   "source": [
    "def rhythm_to_NB(rhythm):\n",
    "    NB = 0\n",
    "    for i in range(len(rhythm)):\n",
    "        if(rhythm[i]=='1'):\n",
    "            if(i%16==0):      \n",
    "                NB += W1\n",
    "            elif(i%8==0):\n",
    "                NB += W2\n",
    "            elif(i%4==0):\n",
    "                NB += W4\n",
    "            elif(i%2==0):\n",
    "                NB += W8\n",
    "            elif(i%1==0):\n",
    "                NB += W16\n",
    "    return NB\n",
    "\n",
    "template2ENB = dict()\n",
    "\n",
    "for template in templates:\n",
    "    all_NB=list()\n",
    "    for rhythm in template2rhythms[template]:\n",
    "        all_NB.append( rhythm_to_NB(rhythm) )\n",
    "    template2ENB[template] = T.mean(all_NB)\n",
    "    \n",
    "#save\n",
    "import pickle\n",
    "with open('files/template2ENB.pickle', 'wb') as f:\n",
    "    pickle.dump(template2ENB, f)"
   ]
  }
 ],
 "metadata": {
  "kernelspec": {
   "display_name": "Python 3",
   "language": "python",
   "name": "python3"
  },
  "language_info": {
   "codemirror_mode": {
    "name": "ipython",
    "version": 3
   },
   "file_extension": ".py",
   "mimetype": "text/x-python",
   "name": "python",
   "nbconvert_exporter": "python",
   "pygments_lexer": "ipython3",
   "version": "3.6.3"
  }
 },
 "nbformat": 4,
 "nbformat_minor": 2
}
