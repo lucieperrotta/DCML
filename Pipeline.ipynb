{
 "cells": [
  {
   "cell_type": "code",
   "execution_count": 167,
   "metadata": {},
   "outputs": [
    {
     "name": "stdout",
     "output_type": "stream",
     "text": [
      "Collecting msgpack\n",
      "  Downloading https://files.pythonhosted.org/packages/8b/fa/975afb5122b563729b93d99b321e3323dee32cdb20b581b5e231d2b49161/msgpack-0.6.1-cp36-cp36m-win_amd64.whl (68kB)\n",
      "Installing collected packages: msgpack\n",
      "Successfully installed msgpack-0.6.1\n"
     ]
    }
   ],
   "source": [
    "! pip install msgpack"
   ]
  },
  {
   "cell_type": "code",
   "execution_count": 168,
   "metadata": {},
   "outputs": [],
   "source": [
    "#Imports\n",
    "import numpy as np\n",
    "from midiutil import MIDIFile\n",
    "import matplotlib.pyplot as plt\n",
    "import ternary\n",
    "from ternary.helpers import simplex_iterator\n",
    "import graphviz\n",
    "import anytree as at\n",
    "from anytree import Node, RenderTree\n",
    "from anytree.exporter import DotExporter\n",
    "import theano.tensor as T\n",
    "from theano import function\n",
    "\n",
    "# helpers\n",
    "import sys\n",
    "sys.path.insert(0, 'helpers/')\n",
    "from tree_parser import TreeParser\n",
    "from midi import *\n",
    "\n",
    "import os\n",
    "os.environ[\"PATH\"] += os.pathsep + 'C:/Program Files (x86)/Graphviz2.38/bin/'"
   ]
  },
  {
   "cell_type": "code",
   "execution_count": 24,
   "metadata": {},
   "outputs": [],
   "source": [
    "# CONSTANTS\n",
    "L = 16 # length of measure\n",
    "N = int(np.log2(L)+1) # Number of levels (including 0)"
   ]
  },
  {
   "cell_type": "code",
   "execution_count": 8,
   "metadata": {},
   "outputs": [],
   "source": [
    "# Initial THEANO symbolic variables\n",
    "\n",
    "p1 = T.dscalar('p1')\n",
    "p2 = T.dscalar('p2')\n",
    "p3 = T.dscalar('p3')"
   ]
  },
  {
   "cell_type": "code",
   "execution_count": 147,
   "metadata": {},
   "outputs": [],
   "source": [
    "# 2-ways dictionary, not too slow...\n",
    "class bidict(dict):\n",
    "    def __init__(self, *args, **kwargs):\n",
    "        super(bidict, self).__init__(*args, **kwargs)\n",
    "        self.inverse = {}\n",
    "        for key, value in self.items():\n",
    "            self.inverse.setdefault(value,[]).append(key) \n",
    "\n",
    "    def __setitem__(self, key, value):\n",
    "        if key in self:\n",
    "            self.inverse[self[key]].remove(key) \n",
    "        super(bidict, self).__setitem__(key, value)\n",
    "        self.inverse.setdefault(value,[]).append(key)        \n",
    "\n",
    "    def __delitem__(self, key):\n",
    "        self.inverse.setdefault(self[key],[]).remove(key)\n",
    "        if self[key] in self.inverse and not self.inverse[self[key]]: \n",
    "            del self.inverse[self[key]]\n",
    "        super(bidict, self).__delitem__(key)"
   ]
  },
  {
   "cell_type": "markdown",
   "metadata": {},
   "source": [
    "# Import stored files"
   ]
  },
  {
   "cell_type": "code",
   "execution_count": 150,
   "metadata": {},
   "outputs": [
    {
     "ename": "AttributeError",
     "evalue": "'bidict' object has no attribute 'inverse'",
     "output_type": "error",
     "traceback": [
      "\u001b[1;31m---------------------------------------------------------------------------\u001b[0m",
      "\u001b[1;31mAttributeError\u001b[0m                            Traceback (most recent call last)",
      "\u001b[1;32m<ipython-input-150-5528dd7f256f>\u001b[0m in \u001b[0;36m<module>\u001b[1;34m()\u001b[0m\n\u001b[0;32m      1\u001b[0m \u001b[0mall_trees\u001b[0m \u001b[1;33m=\u001b[0m \u001b[0mpickle\u001b[0m\u001b[1;33m.\u001b[0m\u001b[0mload\u001b[0m\u001b[1;33m(\u001b[0m \u001b[0mopen\u001b[0m\u001b[1;33m(\u001b[0m \u001b[1;34m\"files/all_trees.pickle\"\u001b[0m\u001b[1;33m,\u001b[0m \u001b[1;34m\"rb\"\u001b[0m \u001b[1;33m)\u001b[0m \u001b[1;33m)\u001b[0m\u001b[1;33m\u001b[0m\u001b[0m\n\u001b[0;32m      2\u001b[0m \u001b[0mall_rhythms\u001b[0m \u001b[1;33m=\u001b[0m \u001b[0mpickle\u001b[0m\u001b[1;33m.\u001b[0m\u001b[0mload\u001b[0m\u001b[1;33m(\u001b[0m \u001b[0mopen\u001b[0m\u001b[1;33m(\u001b[0m \u001b[1;34m\"files/all_rhythms.pickle\"\u001b[0m\u001b[1;33m,\u001b[0m \u001b[1;34m\"rb\"\u001b[0m \u001b[1;33m)\u001b[0m \u001b[1;33m)\u001b[0m\u001b[1;33m\u001b[0m\u001b[0m\n\u001b[1;32m----> 3\u001b[1;33m \u001b[0mtree2rhythm\u001b[0m \u001b[1;33m=\u001b[0m \u001b[0mpickle\u001b[0m\u001b[1;33m.\u001b[0m\u001b[0mload\u001b[0m\u001b[1;33m(\u001b[0m \u001b[0mopen\u001b[0m\u001b[1;33m(\u001b[0m \u001b[1;34m\"files/tree2rhythm.pickle\"\u001b[0m\u001b[1;33m,\u001b[0m \u001b[1;34m\"rb\"\u001b[0m \u001b[1;33m)\u001b[0m \u001b[1;33m)\u001b[0m\u001b[1;33m\u001b[0m\u001b[0m\n\u001b[0m\u001b[0;32m      4\u001b[0m \u001b[1;31m#tree2prob = pickle.load( open( \"files/tree2prob.pickle\", \"rb\" ) )\u001b[0m\u001b[1;33m\u001b[0m\u001b[1;33m\u001b[0m\u001b[0m\n",
      "\u001b[1;32m<ipython-input-147-19c6027fa598>\u001b[0m in \u001b[0;36m__setitem__\u001b[1;34m(self, key, value)\u001b[0m\n\u001b[0;32m     11\u001b[0m             \u001b[0mself\u001b[0m\u001b[1;33m.\u001b[0m\u001b[0minverse\u001b[0m\u001b[1;33m[\u001b[0m\u001b[0mself\u001b[0m\u001b[1;33m[\u001b[0m\u001b[0mkey\u001b[0m\u001b[1;33m]\u001b[0m\u001b[1;33m]\u001b[0m\u001b[1;33m.\u001b[0m\u001b[0mremove\u001b[0m\u001b[1;33m(\u001b[0m\u001b[0mkey\u001b[0m\u001b[1;33m)\u001b[0m\u001b[1;33m\u001b[0m\u001b[0m\n\u001b[0;32m     12\u001b[0m         \u001b[0msuper\u001b[0m\u001b[1;33m(\u001b[0m\u001b[0mbidict\u001b[0m\u001b[1;33m,\u001b[0m \u001b[0mself\u001b[0m\u001b[1;33m)\u001b[0m\u001b[1;33m.\u001b[0m\u001b[0m__setitem__\u001b[0m\u001b[1;33m(\u001b[0m\u001b[0mkey\u001b[0m\u001b[1;33m,\u001b[0m \u001b[0mvalue\u001b[0m\u001b[1;33m)\u001b[0m\u001b[1;33m\u001b[0m\u001b[0m\n\u001b[1;32m---> 13\u001b[1;33m         \u001b[0mself\u001b[0m\u001b[1;33m.\u001b[0m\u001b[0minverse\u001b[0m\u001b[1;33m.\u001b[0m\u001b[0msetdefault\u001b[0m\u001b[1;33m(\u001b[0m\u001b[0mvalue\u001b[0m\u001b[1;33m,\u001b[0m\u001b[1;33m[\u001b[0m\u001b[1;33m]\u001b[0m\u001b[1;33m)\u001b[0m\u001b[1;33m.\u001b[0m\u001b[0mappend\u001b[0m\u001b[1;33m(\u001b[0m\u001b[0mkey\u001b[0m\u001b[1;33m)\u001b[0m\u001b[1;33m\u001b[0m\u001b[0m\n\u001b[0m\u001b[0;32m     14\u001b[0m \u001b[1;33m\u001b[0m\u001b[0m\n\u001b[0;32m     15\u001b[0m     \u001b[1;32mdef\u001b[0m \u001b[0m__delitem__\u001b[0m\u001b[1;33m(\u001b[0m\u001b[0mself\u001b[0m\u001b[1;33m,\u001b[0m \u001b[0mkey\u001b[0m\u001b[1;33m)\u001b[0m\u001b[1;33m:\u001b[0m\u001b[1;33m\u001b[0m\u001b[0m\n",
      "\u001b[1;31mAttributeError\u001b[0m: 'bidict' object has no attribute 'inverse'"
     ]
    }
   ],
   "source": [
    "all_trees = pickle.load( open( \"files/all_trees.pickle\", \"rb\" ) )\n",
    "all_rhythms = pickle.load( open( \"files/all_rhythms.pickle\", \"rb\" ) )\n",
    "tree2rhythm = pickle.load( open( \"files/tree2rhythm.pickle\", \"rb\" ) )\n",
    "#tree2prob = pickle.load( open( \"files/tree2prob.pickle\", \"rb\" ) )"
   ]
  },
  {
   "cell_type": "markdown",
   "metadata": {},
   "source": [
    "# Set of all trees"
   ]
  },
  {
   "cell_type": "code",
   "execution_count": 174,
   "metadata": {},
   "outputs": [
    {
     "data": {
      "text/plain": [
       "2090918"
      ]
     },
     "execution_count": 174,
     "metadata": {},
     "output_type": "execute_result"
    }
   ],
   "source": [
    "# Templates level 1\n",
    "templates_1 = set()\n",
    "templates_1.add(p2)\n",
    "templates_1.add(p3)\n",
    "\n",
    "# Templates level 2\n",
    "templates_2 = set()\n",
    "templates_2.add(p2)\n",
    "templates_2.add(p3)\n",
    "\n",
    "for elem1 in templates_1:\n",
    "    for elem2 in templates_1:\n",
    "        templates_2.add((elem1, elem2))\n",
    "        \n",
    "# Templates level 3\n",
    "templates_3 = set()\n",
    "templates_3.add(p2)\n",
    "templates_3.add(p3)\n",
    "\n",
    "for elem1 in templates_2:\n",
    "    for elem2 in templates_2:\n",
    "        templates_3.add((elem1, elem2))\n",
    "        \n",
    "# Templates level 4\n",
    "templates_4 = set()\n",
    "templates_4.add(p2)\n",
    "templates_4.add(p3)\n",
    "\n",
    "for elem1 in templates_3:\n",
    "    for elem2 in templates_3:\n",
    "        templates_4.add((elem1, elem2))\n",
    "        \n",
    "# Templates level 5\n",
    "all_trees = set()\n",
    "all_trees.add(p2)\n",
    "all_trees.add(p3)\n",
    "\n",
    "for elem1 in templates_4:\n",
    "    for elem2 in templates_4:\n",
    "        all_trees.add((elem1, elem2))\n",
    "        \n",
    "#save\n",
    "import pickle\n",
    "with open('files/all_trees.pickle', 'wb') as f:\n",
    "    pickle.dump(all_trees, f)\n",
    "\n",
    "len(all_trees)"
   ]
  },
  {
   "cell_type": "markdown",
   "metadata": {},
   "source": [
    "# Set of all rhythms"
   ]
  },
  {
   "cell_type": "code",
   "execution_count": 171,
   "metadata": {},
   "outputs": [
    {
     "data": {
      "text/plain": [
       "65536"
      ]
     },
     "execution_count": 171,
     "metadata": {},
     "output_type": "execute_result"
    }
   ],
   "source": [
    "all_rhythms = set()\n",
    "\n",
    "for i in range(2**16): # populating\n",
    "    all_rhythms.add( tuple((\"{0:0%sb}\" %L).format(i)) )\n",
    "    \n",
    "#save\n",
    "import pickle\n",
    "with open('files/all_rhythms.pickle', 'wb') as f:\n",
    "    pickle.dump(all_rhythms, f)\n",
    "    \n",
    "len(all_rhythms)"
   ]
  },
  {
   "cell_type": "markdown",
   "metadata": {},
   "source": [
    "# 2-way dictionnary between sets of trees and rhythms"
   ]
  },
  {
   "cell_type": "code",
   "execution_count": 86,
   "metadata": {},
   "outputs": [],
   "source": [
    "def tree_to_rhythm(tree, size=L):    \n",
    "    if(p2 == tree):\n",
    "        tup = ('1',) + ('0',) * int(size-1)\n",
    "        return tup    \n",
    "    elif(p3 == tree):\n",
    "        tup = ('0',) * int(size)\n",
    "        return tup    \n",
    "    else:\n",
    "        return tree_to_rhythm(tree[0], size/2) + tree_to_rhythm(tree[1], size/2)\n",
    "    \n",
    "tree2rhythm = bidict()\n",
    "\n",
    "for tree in all_trees:\n",
    "    tree2rhythm[tree] = tree_to_rhythm(tree)\n",
    "    \n",
    "#save\n",
    "import pickle\n",
    "with open('files/tree2rhythm.pickle', 'wb') as f:\n",
    "    pickle.dump(tree2rhythm, f)"
   ]
  },
  {
   "cell_type": "markdown",
   "metadata": {},
   "source": [
    "# Probability of each tree"
   ]
  },
  {
   "cell_type": "code",
   "execution_count": null,
   "metadata": {},
   "outputs": [
    {
     "name": "stdout",
     "output_type": "stream",
     "text": [
      "1000\n",
      "2000\n",
      "3000\n",
      "4000\n",
      "5000\n",
      "6000\n",
      "7000\n",
      "8000\n",
      "9000\n",
      "10000\n",
      "11000\n",
      "12000\n",
      "13000\n",
      "14000\n",
      "15000\n",
      "16000\n",
      "17000\n",
      "18000\n"
     ]
    }
   ],
   "source": [
    "def tree_to_prob(tree) -> T.TensorVariable :    \n",
    "    if(p2 == tree):\n",
    "        return p2 \n",
    "    elif(p3 == tree):\n",
    "        return p3\n",
    "    else:\n",
    "        return p1 * tree_to_prob(tree[0]) * tree_to_prob(tree[1])    \n",
    "\n",
    "tree2prob = {}\n",
    "i=0\n",
    "\n",
    "for tree in all_trees:\n",
    "    i+=1\n",
    "    if(i%1000 == 0):\n",
    "        print(i)\n",
    "        \n",
    "    tree2prob[tree] = tree_to_prob(tree)\n",
    "    \n",
    "#save\n",
    "import pickle\n",
    "with open('files/tree2prob.pickle', 'wb') as f:\n",
    "    pickle.dump(tree2prob, f)"
   ]
  },
  {
   "cell_type": "code",
   "execution_count": 160,
   "metadata": {},
   "outputs": [],
   "source": [
    "def tree_to_prob(tree) -> T.TensorVariable :    \n",
    "    if(p2 == tree):\n",
    "        return p2 \n",
    "    elif(p3 == tree):\n",
    "        return p3\n",
    "    else:\n",
    "        return p1 * tree_to_prob(tree[0]) * tree_to_prob(tree[1])\n"
   ]
  },
  {
   "cell_type": "code",
   "execution_count": 159,
   "metadata": {},
   "outputs": [
    {
     "data": {
      "text/plain": [
       "Elemwise{mul,no_inplace}.0"
      ]
     },
     "execution_count": 159,
     "metadata": {},
     "output_type": "execute_result"
    }
   ],
   "source": [
    "tree_to_prob(e)"
   ]
  },
  {
   "cell_type": "code",
   "execution_count": null,
   "metadata": {},
   "outputs": [],
   "source": []
  }
 ],
 "metadata": {
  "kernelspec": {
   "display_name": "Python 3",
   "language": "python",
   "name": "python3"
  },
  "language_info": {
   "codemirror_mode": {
    "name": "ipython",
    "version": 3
   },
   "file_extension": ".py",
   "mimetype": "text/x-python",
   "name": "python",
   "nbconvert_exporter": "python",
   "pygments_lexer": "ipython3",
   "version": "3.6.3"
  }
 },
 "nbformat": 4,
 "nbformat_minor": 2
}
